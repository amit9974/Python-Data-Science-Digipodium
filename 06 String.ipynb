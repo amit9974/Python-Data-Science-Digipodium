{
 "cells": [
  {
   "cell_type": "markdown",
   "metadata": {},
   "source": [
    "# Python String"
   ]
  },
  {
   "cell_type": "code",
   "execution_count": 17,
   "metadata": {},
   "outputs": [],
   "source": [
    "nam = 'Amit Kumar'"
   ]
  },
  {
   "cell_type": "code",
   "execution_count": 18,
   "metadata": {},
   "outputs": [
    {
     "data": {
      "text/plain": [
       "10"
      ]
     },
     "execution_count": 18,
     "metadata": {},
     "output_type": "execute_result"
    }
   ],
   "source": [
    "len(nam)   "
   ]
  },
  {
   "cell_type": "code",
   "execution_count": 22,
   "metadata": {},
   "outputs": [
    {
     "data": {
      "text/plain": [
       "'Amit'"
      ]
     },
     "execution_count": 22,
     "metadata": {},
     "output_type": "execute_result"
    }
   ],
   "source": [
    "# Indexing access element\n",
    "fname = nam[0:4]\n",
    "fname"
   ]
  },
  {
   "cell_type": "code",
   "execution_count": 20,
   "metadata": {},
   "outputs": [
    {
     "data": {
      "text/plain": [
       "'K'"
      ]
     },
     "execution_count": 20,
     "metadata": {},
     "output_type": "execute_result"
    }
   ],
   "source": [
    "nam[5]"
   ]
  },
  {
   "cell_type": "code",
   "execution_count": 21,
   "metadata": {},
   "outputs": [
    {
     "data": {
      "text/plain": [
       "'Amit '"
      ]
     },
     "execution_count": 21,
     "metadata": {},
     "output_type": "execute_result"
    }
   ],
   "source": [
    "# Concatination\n",
    "nam[0]+ nam[1]+ nam[2]+ nam[3] + nam[4]"
   ]
  },
  {
   "cell_type": "code",
   "execution_count": 12,
   "metadata": {},
   "outputs": [
    {
     "name": "stdout",
     "output_type": "stream",
     "text": [
      "pod\n"
     ]
    }
   ],
   "source": [
    "# String slicing\n",
    "name = \"Digipodium\"\n",
    "s = name[4:7]\n",
    "print(s)"
   ]
  },
  {
   "cell_type": "code",
   "execution_count": 32,
   "metadata": {},
   "outputs": [
    {
     "name": "stdout",
     "output_type": "stream",
     "text": [
      " Deenanath\n"
     ]
    }
   ],
   "source": [
    "name1 = \"Vijay Deenanath Chauhan\"\n",
    "b=name1[6:15]\n",
    "print(b)"
   ]
  },
  {
   "cell_type": "code",
   "execution_count": 35,
   "metadata": {},
   "outputs": [
    {
     "data": {
      "text/plain": [
       "' Chauhan'"
      ]
     },
     "execution_count": 35,
     "metadata": {},
     "output_type": "execute_result"
    }
   ],
   "source": [
    "name1[-8:]"
   ]
  },
  {
   "cell_type": "code",
   "execution_count": 36,
   "metadata": {},
   "outputs": [
    {
     "name": "stdout",
     "output_type": "stream",
     "text": [
      "Digi\n",
      "Digi\n"
     ]
    }
   ],
   "source": [
    "# getting a slicing\n",
    "name = 'Digipodium'\n",
    "a = name[0:4]\n",
    "b = name[:4]\n",
    "\n",
    "print(a)\n",
    "print(b)"
   ]
  },
  {
   "cell_type": "code",
   "execution_count": 39,
   "metadata": {},
   "outputs": [
    {
     "name": "stdout",
     "output_type": "stream",
     "text": [
      "Chauhan\n",
      "Chauhan\n"
     ]
    }
   ],
   "source": [
    "# Accesss chauhan\n",
    "name1 = \"Vijay Deenanath Chauhan\"\n",
    "a = name1[16:len(name1)]\n",
    "b = name1[-7:]\n",
    "print(a)\n",
    "print(b)"
   ]
  },
  {
   "cell_type": "code",
   "execution_count": 57,
   "metadata": {},
   "outputs": [
    {
     "name": "stdout",
     "output_type": "stream",
     "text": [
      "A\n",
      "Ӓ\n",
      "Ҽ\n",
      "ऑ\n",
      "औ\n"
     ]
    }
   ],
   "source": [
    "# chr\n",
    "x = chr(65)\n",
    "print(x)\n",
    "\n",
    "s = chr(1234)\n",
    "print(s)\n",
    "\n",
    "d = chr(1212)\n",
    "print(d)\n",
    "\n",
    "e = chr(2321)\n",
    "print(e)\n",
    "\n",
    "h = chr(2324)\n",
    "print(h)"
   ]
  },
  {
   "cell_type": "code",
   "execution_count": 66,
   "metadata": {},
   "outputs": [
    {
     "name": "stdout",
     "output_type": "stream",
     "text": [
      "ࡈ\n",
      "ࡉ\n",
      "ࡊ\n",
      "ࡋ\n",
      "ࡌ\n",
      "ࡍ\n",
      "ࡎ\n",
      "ࡏ\n",
      "ࡐ\n",
      "ࡑ\n",
      "ࡒ\n",
      "ࡓ\n",
      "ࡔ\n",
      "ࡕ\n",
      "ࡖ\n",
      "ࡗ\n",
      "ࡘ\n",
      "࡙\n",
      "࡚\n",
      "࡛\n",
      "࡜\n",
      "࡝\n",
      "࡞\n",
      "࡟\n",
      "ࡠ\n",
      "ࡡ\n",
      "ࡢ\n",
      "ࡣ\n",
      "ࡤ\n",
      "ࡥ\n",
      "ࡦ\n",
      "ࡧ\n",
      "ࡨ\n",
      "ࡩ\n",
      "ࡪ\n",
      "࡫\n",
      "࡬\n",
      "࡭\n",
      "࡮\n",
      "࡯\n",
      "ࡰ\n",
      "ࡱ\n",
      "ࡲ\n",
      "ࡳ\n",
      "ࡴ\n",
      "ࡵ\n",
      "ࡶ\n",
      "ࡷ\n",
      "ࡸ\n",
      "ࡹ\n",
      "ࡺ\n",
      "ࡻ\n",
      "ࡼ\n",
      "ࡽ\n",
      "ࡾ\n",
      "ࡿ\n",
      "ࢀ\n",
      "ࢁ\n",
      "ࢂ\n",
      "ࢃ\n",
      "ࢄ\n",
      "ࢅ\n",
      "ࢆ\n",
      "ࢇ\n",
      "࢈\n",
      "ࢉ\n",
      "ࢊ\n",
      "ࢋ\n",
      "ࢌ\n",
      "ࢍ\n",
      "ࢎ\n",
      "࢏\n",
      "࢐\n",
      "࢑\n",
      "࢒\n",
      "࢓\n",
      "࢔\n",
      "࢕\n",
      "࢖\n",
      "ࢗ\n",
      "࢘\n",
      "࢙\n",
      "࢚\n",
      "࢛\n",
      "࢜\n",
      "࢝\n",
      "࢞\n",
      "࢟\n",
      "ࢠ\n",
      "ࢡ\n",
      "ࢢ\n",
      "ࢣ\n",
      "ࢤ\n",
      "ࢥ\n",
      "ࢦ\n",
      "ࢧ\n",
      "ࢨ\n",
      "ࢩ\n",
      "ࢪ\n",
      "ࢫ\n",
      "ࢬ\n",
      "ࢭ\n",
      "ࢮ\n",
      "ࢯ\n",
      "ࢰ\n",
      "ࢱ\n",
      "ࢲ\n",
      "ࢳ\n",
      "ࢴ\n",
      "ࢵ\n",
      "ࢶ\n",
      "ࢷ\n",
      "ࢸ\n",
      "ࢹ\n",
      "ࢺ\n",
      "ࢻ\n",
      "ࢼ\n",
      "ࢽ\n",
      "ࢾ\n",
      "ࢿ\n",
      "ࣀ\n",
      "ࣁ\n",
      "ࣂ\n",
      "ࣃ\n",
      "ࣄ\n",
      "ࣅ\n",
      "ࣆ\n",
      "ࣇ\n",
      "ࣈ\n",
      "ࣉ\n",
      "࣊\n",
      "࣋\n",
      "࣌\n",
      "࣍\n",
      "࣎\n",
      "࣏\n",
      "࣐\n",
      "࣑\n",
      "࣒\n",
      "࣓\n",
      "ࣔ\n",
      "ࣕ\n",
      "ࣖ\n",
      "ࣗ\n",
      "ࣘ\n",
      "ࣙ\n",
      "ࣚ\n",
      "ࣛ\n",
      "ࣜ\n",
      "ࣝ\n",
      "ࣞ\n",
      "ࣟ\n",
      "࣠\n",
      "࣡\n",
      "࣢\n",
      "ࣣ\n",
      "ࣤ\n",
      "ࣥ\n",
      "ࣦ\n",
      "ࣧ\n",
      "ࣨ\n",
      "ࣩ\n",
      "࣪\n",
      "࣫\n",
      "࣬\n",
      "࣭\n",
      "࣮\n",
      "࣯\n",
      "ࣰ\n",
      "ࣱ\n",
      "ࣲ\n",
      "ࣳ\n",
      "ࣴ\n",
      "ࣵ\n",
      "ࣶ\n",
      "ࣷ\n",
      "ࣸ\n",
      "ࣹ\n",
      "ࣺ\n",
      "ࣻ\n",
      "ࣼ\n",
      "ࣽ\n",
      "ࣾ\n",
      "ࣿ\n",
      "ऀ\n",
      "ँ\n",
      "ं\n",
      "ः\n",
      "ऄ\n",
      "अ\n",
      "आ\n",
      "इ\n",
      "ई\n",
      "उ\n",
      "ऊ\n",
      "ऋ\n",
      "ऌ\n",
      "ऍ\n",
      "ऎ\n",
      "ए\n",
      "ऐ\n",
      "ऑ\n",
      "ऒ\n",
      "ओ\n",
      "औ\n",
      "क\n",
      "ख\n",
      "ग\n",
      "घ\n",
      "ङ\n",
      "च\n",
      "छ\n",
      "ज\n",
      "झ\n",
      "ञ\n",
      "ट\n",
      "ठ\n",
      "ड\n",
      "ढ\n",
      "ण\n",
      "त\n",
      "थ\n",
      "द\n",
      "ध\n",
      "न\n",
      "ऩ\n",
      "प\n",
      "फ\n",
      "ब\n",
      "भ\n",
      "म\n",
      "य\n",
      "र\n",
      "ऱ\n",
      "ल\n",
      "ळ\n",
      "ऴ\n",
      "व\n",
      "श\n",
      "ष\n",
      "स\n",
      "ह\n",
      "ऺ\n",
      "ऻ\n",
      "़\n",
      "ऽ\n",
      "ा\n",
      "ि\n",
      "ी\n",
      "ु\n",
      "ू\n",
      "ृ\n",
      "ॄ\n",
      "ॅ\n",
      "ॆ\n",
      "े\n",
      "ै\n",
      "ॉ\n",
      "ॊ\n",
      "ो\n",
      "ौ\n",
      "्\n",
      "ॎ\n",
      "ॏ\n",
      "ॐ\n",
      "॑\n",
      "॒\n",
      "॓\n",
      "॔\n",
      "ॕ\n",
      "ॖ\n",
      "ॗ\n",
      "क़\n",
      "ख़\n",
      "ग़\n",
      "ज़\n",
      "ड़\n",
      "ढ़\n",
      "फ़\n",
      "य़\n",
      "ॠ\n",
      "ॡ\n",
      "ॢ\n",
      "ॣ\n",
      "।\n",
      "॥\n",
      "०\n",
      "१\n",
      "२\n",
      "३\n",
      "४\n",
      "५\n",
      "६\n",
      "७\n",
      "८\n",
      "९\n",
      "॰\n",
      "ॱ\n",
      "ॲ\n",
      "ॳ\n",
      "ॴ\n",
      "ॵ\n",
      "ॶ\n",
      "ॷ\n",
      "ॸ\n",
      "ॹ\n",
      "ॺ\n",
      "ॻ\n",
      "ॼ\n",
      "ॽ\n"
     ]
    }
   ],
   "source": [
    "for i in range(2120,2430):\n",
    "    print(chr(i))"
   ]
  },
  {
   "cell_type": "code",
   "execution_count": 71,
   "metadata": {},
   "outputs": [
    {
     "name": "stdout",
     "output_type": "stream",
     "text": [
      "65\n"
     ]
    }
   ],
   "source": [
    "# ord ()\n",
    "n = ord('A')\n",
    "print(n)"
   ]
  },
  {
   "cell_type": "code",
   "execution_count": 76,
   "metadata": {},
   "outputs": [
    {
     "name": "stdout",
     "output_type": "stream",
     "text": [
      "68\n"
     ]
    }
   ],
   "source": [
    "name = ord('D')\n",
    "print(name)"
   ]
  },
  {
   "cell_type": "code",
   "execution_count": 77,
   "metadata": {},
   "outputs": [
    {
     "data": {
      "text/plain": [
       "10"
      ]
     },
     "execution_count": 77,
     "metadata": {},
     "output_type": "execute_result"
    }
   ],
   "source": [
    "name = \"Amit kumar\"\n",
    "len(name)\n"
   ]
  },
  {
   "cell_type": "code",
   "execution_count": 78,
   "metadata": {},
   "outputs": [
    {
     "name": "stdout",
     "output_type": "stream",
     "text": [
      "Hello world\n"
     ]
    }
   ],
   "source": [
    "# Concatination\n",
    "a = \"Hello\"\n",
    "b = \"world\"\n",
    "print(a+' '+b)\n"
   ]
  },
  {
   "cell_type": "code",
   "execution_count": 82,
   "metadata": {},
   "outputs": [
    {
     "name": "stdout",
     "output_type": "stream",
     "text": [
      "This is Python Programming\n"
     ]
    }
   ],
   "source": [
    "a = 'This'\n",
    "b = 'is'\n",
    "c = 'Python'\n",
    "d = 'Programming'\n",
    "\n",
    "print(a + ' ' + b +' ' + c +' ' + d)"
   ]
  },
  {
   "cell_type": "code",
   "execution_count": 87,
   "metadata": {},
   "outputs": [
    {
     "name": "stdout",
     "output_type": "stream",
     "text": [
      "HelloHelloHelloHello\n"
     ]
    }
   ],
   "source": [
    "ab = 'Hello'\n",
    "print(ab*4)"
   ]
  },
  {
   "cell_type": "code",
   "execution_count": null,
   "metadata": {},
   "outputs": [],
   "source": []
  },
  {
   "cell_type": "code",
   "execution_count": null,
   "metadata": {},
   "outputs": [],
   "source": []
  }
 ],
 "metadata": {
  "kernelspec": {
   "display_name": "Python 3.9.12 ('base')",
   "language": "python",
   "name": "python3"
  },
  "language_info": {
   "codemirror_mode": {
    "name": "ipython",
    "version": 3
   },
   "file_extension": ".py",
   "mimetype": "text/x-python",
   "name": "python",
   "nbconvert_exporter": "python",
   "pygments_lexer": "ipython3",
   "version": "3.9.12"
  },
  "orig_nbformat": 4,
  "vscode": {
   "interpreter": {
    "hash": "19d1d53a962d236aa061289c2ac16dc8e6d9648c89fe79f459ae9a3493bc67b4"
   }
  }
 },
 "nbformat": 4,
 "nbformat_minor": 2
}
