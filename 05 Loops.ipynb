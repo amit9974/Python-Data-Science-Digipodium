{
 "cells": [
  {
   "cell_type": "markdown",
   "metadata": {},
   "source": [
    "# Loops in Python"
   ]
  },
  {
   "cell_type": "code",
   "execution_count": 7,
   "metadata": {},
   "outputs": [
    {
     "name": "stdout",
     "output_type": "stream",
     "text": [
      "P\n",
      "Y\n",
      "T\n",
      "H\n",
      "O\n",
      "N\n"
     ]
    }
   ],
   "source": [
    "x = 'PYTHON'\n",
    "for i in x:\n",
    "    print(i)"
   ]
  },
  {
   "cell_type": "code",
   "execution_count": 11,
   "metadata": {},
   "outputs": [
    {
     "name": "stdout",
     "output_type": "stream",
     "text": [
      "A\n",
      "m\n",
      "i\n",
      "t\n",
      " \n",
      "K\n",
      "u\n",
      "m\n",
      "a\n",
      "r\n"
     ]
    }
   ],
   "source": [
    "name = \"Amit Kumar\"\n",
    "for i in name:\n",
    "    print(i)"
   ]
  },
  {
   "cell_type": "code",
   "execution_count": 15,
   "metadata": {},
   "outputs": [
    {
     "name": "stdout",
     "output_type": "stream",
     "text": [
      "apple\n",
      "banana\n",
      "orange\n",
      "mango\n"
     ]
    }
   ],
   "source": [
    "fruits = ['apple','banana','orange','mango']\n",
    "for i in fruits:\n",
    "    print(i)"
   ]
  },
  {
   "cell_type": "code",
   "execution_count": 14,
   "metadata": {},
   "outputs": [
    {
     "name": "stdout",
     "output_type": "stream",
     "text": [
      "I have some fruits apple\n",
      "I have some fruits banana\n",
      "I have some fruits orange\n",
      "I have some fruits mango\n"
     ]
    }
   ],
   "source": [
    "fruits = ['apple','banana','orange','mango']\n",
    "for i in fruits:\n",
    "    print(f\"I have some fruits {i}\")"
   ]
  },
  {
   "cell_type": "code",
   "execution_count": 19,
   "metadata": {},
   "outputs": [
    {
     "name": "stdout",
     "output_type": "stream",
     "text": [
      "you got a point 0\n",
      "you got a point 1\n",
      "you got a point 2\n",
      "you got a point 3\n",
      "you got a point 4\n",
      "you got a point 5\n",
      "you got a point 6\n",
      "you got a point 7\n",
      "you got a point 8\n",
      "you got a point 9\n",
      "you got a point 10\n"
     ]
    }
   ],
   "source": [
    "for i in range(11):\n",
    "    print(\"you got a point\",i)"
   ]
  },
  {
   "cell_type": "code",
   "execution_count": 24,
   "metadata": {},
   "outputs": [
    {
     "name": "stdout",
     "output_type": "stream",
     "text": [
      "0\n",
      "2\n",
      "4\n",
      "6\n",
      "8\n",
      "10\n",
      "12\n",
      "14\n",
      "16\n",
      "18\n",
      "20\n"
     ]
    }
   ],
   "source": [
    "for i in range(0,22,2):\n",
    "    print(i)"
   ]
  },
  {
   "cell_type": "code",
   "execution_count": 35,
   "metadata": {},
   "outputs": [
    {
     "name": "stdout",
     "output_type": "stream",
     "text": [
      "10\n",
      "9\n",
      "8\n",
      "7\n",
      "6\n",
      "5\n",
      "4\n",
      "3\n",
      "2\n",
      "1\n"
     ]
    }
   ],
   "source": [
    "# reverse loop\n",
    "for num in range(10,0,-1):\n",
    "    print(num)"
   ]
  },
  {
   "cell_type": "code",
   "execution_count": 34,
   "metadata": {},
   "outputs": [
    {
     "name": "stdout",
     "output_type": "stream",
     "text": [
      "20\n",
      "17\n",
      "14\n",
      "11\n",
      "8\n",
      "5\n",
      "2\n"
     ]
    }
   ],
   "source": [
    "for num in range(20,0,-3):\n",
    "    print(num)"
   ]
  },
  {
   "cell_type": "code",
   "execution_count": 36,
   "metadata": {},
   "outputs": [
    {
     "name": "stdout",
     "output_type": "stream",
     "text": [
      "\n",
      "*\n",
      "**\n",
      "***\n",
      "****\n",
      "*****\n",
      "******\n",
      "*******\n",
      "********\n",
      "*********\n"
     ]
    }
   ],
   "source": [
    "# Pattern Loop\n",
    "\n",
    "for i in range(10):\n",
    "    print(i * \"*\")"
   ]
  },
  {
   "cell_type": "code",
   "execution_count": 38,
   "metadata": {},
   "outputs": [
    {
     "name": "stdout",
     "output_type": "stream",
     "text": [
      "These number are divided via: 15\n",
      "These number are divided via: 30\n",
      "These number are divided via: 45\n"
     ]
    }
   ],
   "source": [
    "for i in range(1,51):\n",
    "    if i % 3 == 0 and i % 5 ==0:\n",
    "        print(f\"These number are divided via: {i}\")\n"
   ]
  },
  {
   "cell_type": "code",
   "execution_count": 39,
   "metadata": {},
   "outputs": [
    {
     "name": "stdout",
     "output_type": "stream",
     "text": [
      "This is odd number: 0\n",
      "This is odd number: 2\n",
      "This is odd number: 4\n",
      "This is odd number: 6\n",
      "This is odd number: 8\n",
      "This is odd number: 10\n",
      "This is odd number: 12\n",
      "This is odd number: 14\n",
      "This is odd number: 16\n",
      "This is odd number: 18\n",
      "This is odd number: 20\n",
      "This is odd number: 22\n",
      "This is odd number: 24\n",
      "This is odd number: 26\n",
      "This is odd number: 28\n",
      "This is odd number: 30\n",
      "This is odd number: 32\n",
      "This is odd number: 34\n",
      "This is odd number: 36\n",
      "This is odd number: 38\n",
      "This is odd number: 40\n",
      "This is odd number: 42\n",
      "This is odd number: 44\n",
      "This is odd number: 46\n",
      "This is odd number: 48\n",
      "This is odd number: 50\n",
      "This is odd number: 52\n",
      "This is odd number: 54\n",
      "This is odd number: 56\n",
      "This is odd number: 58\n",
      "This is odd number: 60\n",
      "This is odd number: 62\n",
      "This is odd number: 64\n",
      "This is odd number: 66\n",
      "This is odd number: 68\n",
      "This is odd number: 70\n",
      "This is odd number: 72\n",
      "This is odd number: 74\n",
      "This is odd number: 76\n",
      "This is odd number: 78\n",
      "This is odd number: 80\n",
      "This is odd number: 82\n",
      "This is odd number: 84\n",
      "This is odd number: 86\n",
      "This is odd number: 88\n",
      "This is odd number: 90\n",
      "This is odd number: 92\n",
      "This is odd number: 94\n",
      "This is odd number: 96\n",
      "This is odd number: 98\n",
      "This is odd number: 100\n"
     ]
    }
   ],
   "source": [
    "for i in range(101):\n",
    "    if i % 2 ==0:\n",
    "        print(f\"This is odd number: {i}\")"
   ]
  },
  {
   "cell_type": "code",
   "execution_count": 40,
   "metadata": {},
   "outputs": [
    {
     "name": "stdout",
     "output_type": "stream",
     "text": [
      "lucknow is 7 charactors.\n",
      "basti is 5 charactors.\n",
      "delhi is 5 charactors.\n",
      "uttar pradesh is 13 charactors.\n"
     ]
    }
   ],
   "source": [
    "places = ['lucknow','basti','delhi','uttar pradesh']\n",
    "for place in places:\n",
    "    print(f\"{place} is {len(place)} charactors.\")"
   ]
  },
  {
   "cell_type": "code",
   "execution_count": 41,
   "metadata": {},
   "outputs": [
    {
     "name": "stdout",
     "output_type": "stream",
     "text": [
      "anit\n",
      "amit\n",
      "arav\n",
      "sumit\n"
     ]
    }
   ],
   "source": [
    "name = ['anit','amit','arav','sumit']\n",
    "for n in name:\n",
    "    print(n)"
   ]
  },
  {
   "cell_type": "code",
   "execution_count": 44,
   "metadata": {},
   "outputs": [
    {
     "name": "stdout",
     "output_type": "stream",
     "text": [
      "3\n"
     ]
    }
   ],
   "source": [
    "num = [1,2,2,23,2,4,5,33,2,4,3,3,4,6,6,6,2,2]\n",
    "x = 0\n",
    "for i in num:\n",
    "    if i == 6:\n",
    "        x += 1\n",
    "print(x)"
   ]
  },
  {
   "cell_type": "code",
   "execution_count": 51,
   "metadata": {},
   "outputs": [
    {
     "name": "stdout",
     "output_type": "stream",
     "text": [
      "['b', 'b']\n"
     ]
    }
   ],
   "source": [
    "a = ['a','a','b','b','t']\n",
    "s = []\n",
    "for n in a:\n",
    "    if n == 'b':\n",
    "        s += 'b'\n",
    "print(s)"
   ]
  },
  {
   "cell_type": "code",
   "execution_count": null,
   "metadata": {},
   "outputs": [],
   "source": []
  }
 ],
 "metadata": {
  "interpreter": {
   "hash": "19d1d53a962d236aa061289c2ac16dc8e6d9648c89fe79f459ae9a3493bc67b4"
  },
  "kernelspec": {
   "display_name": "Python 3.9.12 ('base')",
   "language": "python",
   "name": "python3"
  },
  "language_info": {
   "codemirror_mode": {
    "name": "ipython",
    "version": 3
   },
   "file_extension": ".py",
   "mimetype": "text/x-python",
   "name": "python",
   "nbconvert_exporter": "python",
   "pygments_lexer": "ipython3",
   "version": "3.9.12"
  },
  "orig_nbformat": 4
 },
 "nbformat": 4,
 "nbformat_minor": 2
}
