{
 "cells": [
  {
   "cell_type": "markdown",
   "metadata": {},
   "source": [
    "# Loops in Python\n",
    "In python or in any other programming language as they help you to execute a block of code repeatedly.\n",
    "There are two types of loop\n",
    "* 1 --- for loop\n",
    "* 2 --- while loop\n",
    "\n",
    "* Why loop :  --- To write less code, concise code for repeated process\n",
    "* When need loop --- Run a code block repeatedly Process item in a sequence with same code\n",
    "\n",
    "\n",
    "# For loop\n"
   ]
  },
  {
   "cell_type": "code",
   "execution_count": 7,
   "metadata": {},
   "outputs": [
    {
     "name": "stdout",
     "output_type": "stream",
     "text": [
      "P\n",
      "Y\n",
      "T\n",
      "H\n",
      "O\n",
      "N\n"
     ]
    }
   ],
   "source": [
    "x = 'PYTHON'\n",
    "for i in x:\n",
    "    print(i)"
   ]
  },
  {
   "cell_type": "code",
   "execution_count": 11,
   "metadata": {},
   "outputs": [
    {
     "name": "stdout",
     "output_type": "stream",
     "text": [
      "A\n",
      "m\n",
      "i\n",
      "t\n",
      " \n",
      "K\n",
      "u\n",
      "m\n",
      "a\n",
      "r\n"
     ]
    }
   ],
   "source": [
    "name = \"Amit Kumar\"\n",
    "for i in name:\n",
    "    print(i)"
   ]
  },
  {
   "cell_type": "code",
   "execution_count": 15,
   "metadata": {},
   "outputs": [
    {
     "name": "stdout",
     "output_type": "stream",
     "text": [
      "apple\n",
      "banana\n",
      "orange\n",
      "mango\n"
     ]
    }
   ],
   "source": [
    "fruits = ['apple','banana','orange','mango']\n",
    "for i in fruits:\n",
    "    print(i)"
   ]
  },
  {
   "cell_type": "code",
   "execution_count": 14,
   "metadata": {},
   "outputs": [
    {
     "name": "stdout",
     "output_type": "stream",
     "text": [
      "I have some fruits apple\n",
      "I have some fruits banana\n",
      "I have some fruits orange\n",
      "I have some fruits mango\n"
     ]
    }
   ],
   "source": [
    "fruits = ['apple','banana','orange','mango']\n",
    "for i in fruits:\n",
    "    print(f\"I have some fruits {i}\")"
   ]
  },
  {
   "cell_type": "code",
   "execution_count": 19,
   "metadata": {},
   "outputs": [
    {
     "name": "stdout",
     "output_type": "stream",
     "text": [
      "you got a point 0\n",
      "you got a point 1\n",
      "you got a point 2\n",
      "you got a point 3\n",
      "you got a point 4\n",
      "you got a point 5\n",
      "you got a point 6\n",
      "you got a point 7\n",
      "you got a point 8\n",
      "you got a point 9\n",
      "you got a point 10\n"
     ]
    }
   ],
   "source": [
    "for i in range(11):\n",
    "    print(\"you got a point\",i)"
   ]
  },
  {
   "cell_type": "code",
   "execution_count": 24,
   "metadata": {},
   "outputs": [
    {
     "name": "stdout",
     "output_type": "stream",
     "text": [
      "0\n",
      "2\n",
      "4\n",
      "6\n",
      "8\n",
      "10\n",
      "12\n",
      "14\n",
      "16\n",
      "18\n",
      "20\n"
     ]
    }
   ],
   "source": [
    "for i in range(0,22,2):\n",
    "    print(i)"
   ]
  },
  {
   "cell_type": "code",
   "execution_count": 35,
   "metadata": {},
   "outputs": [
    {
     "name": "stdout",
     "output_type": "stream",
     "text": [
      "10\n",
      "9\n",
      "8\n",
      "7\n",
      "6\n",
      "5\n",
      "4\n",
      "3\n",
      "2\n",
      "1\n"
     ]
    }
   ],
   "source": [
    "# reverse loop\n",
    "for num in range(10,0,-1):\n",
    "    print(num)"
   ]
  },
  {
   "cell_type": "code",
   "execution_count": 34,
   "metadata": {},
   "outputs": [
    {
     "name": "stdout",
     "output_type": "stream",
     "text": [
      "20\n",
      "17\n",
      "14\n",
      "11\n",
      "8\n",
      "5\n",
      "2\n"
     ]
    }
   ],
   "source": [
    "for num in range(20,0,-3):\n",
    "    print(num)"
   ]
  },
  {
   "cell_type": "code",
   "execution_count": 36,
   "metadata": {},
   "outputs": [
    {
     "name": "stdout",
     "output_type": "stream",
     "text": [
      "\n",
      "*\n",
      "**\n",
      "***\n",
      "****\n",
      "*****\n",
      "******\n",
      "*******\n",
      "********\n",
      "*********\n"
     ]
    }
   ],
   "source": [
    "# Pattern Loop\n",
    "for i in range(10):\n",
    "    print(i * \"*\")"
   ]
  },
  {
   "cell_type": "code",
   "execution_count": 38,
   "metadata": {},
   "outputs": [
    {
     "name": "stdout",
     "output_type": "stream",
     "text": [
      "These number are divided via: 15\n",
      "These number are divided via: 30\n",
      "These number are divided via: 45\n"
     ]
    }
   ],
   "source": [
    "for i in range(1,51):\n",
    "    if i % 3 == 0 and i % 5 ==0:\n",
    "        print(f\"These number are divided via: {i}\")\n"
   ]
  },
  {
   "cell_type": "code",
   "execution_count": 39,
   "metadata": {},
   "outputs": [
    {
     "name": "stdout",
     "output_type": "stream",
     "text": [
      "This is odd number: 0\n",
      "This is odd number: 2\n",
      "This is odd number: 4\n",
      "This is odd number: 6\n",
      "This is odd number: 8\n",
      "This is odd number: 10\n",
      "This is odd number: 12\n",
      "This is odd number: 14\n",
      "This is odd number: 16\n",
      "This is odd number: 18\n",
      "This is odd number: 20\n",
      "This is odd number: 22\n",
      "This is odd number: 24\n",
      "This is odd number: 26\n",
      "This is odd number: 28\n",
      "This is odd number: 30\n",
      "This is odd number: 32\n",
      "This is odd number: 34\n",
      "This is odd number: 36\n",
      "This is odd number: 38\n",
      "This is odd number: 40\n",
      "This is odd number: 42\n",
      "This is odd number: 44\n",
      "This is odd number: 46\n",
      "This is odd number: 48\n",
      "This is odd number: 50\n",
      "This is odd number: 52\n",
      "This is odd number: 54\n",
      "This is odd number: 56\n",
      "This is odd number: 58\n",
      "This is odd number: 60\n",
      "This is odd number: 62\n",
      "This is odd number: 64\n",
      "This is odd number: 66\n",
      "This is odd number: 68\n",
      "This is odd number: 70\n",
      "This is odd number: 72\n",
      "This is odd number: 74\n",
      "This is odd number: 76\n",
      "This is odd number: 78\n",
      "This is odd number: 80\n",
      "This is odd number: 82\n",
      "This is odd number: 84\n",
      "This is odd number: 86\n",
      "This is odd number: 88\n",
      "This is odd number: 90\n",
      "This is odd number: 92\n",
      "This is odd number: 94\n",
      "This is odd number: 96\n",
      "This is odd number: 98\n",
      "This is odd number: 100\n"
     ]
    }
   ],
   "source": [
    "for i in range(101):\n",
    "    if i % 2 ==0:\n",
    "        print(f\"This is odd number: {i}\")"
   ]
  },
  {
   "cell_type": "code",
   "execution_count": 40,
   "metadata": {},
   "outputs": [
    {
     "name": "stdout",
     "output_type": "stream",
     "text": [
      "lucknow is 7 charactors.\n",
      "basti is 5 charactors.\n",
      "delhi is 5 charactors.\n",
      "uttar pradesh is 13 charactors.\n"
     ]
    }
   ],
   "source": [
    "places = ['lucknow','basti','delhi','uttar pradesh']\n",
    "for place in places:\n",
    "    print(f\"{place} is {len(place)} charactors.\")"
   ]
  },
  {
   "cell_type": "code",
   "execution_count": 41,
   "metadata": {},
   "outputs": [
    {
     "name": "stdout",
     "output_type": "stream",
     "text": [
      "anit\n",
      "amit\n",
      "arav\n",
      "sumit\n"
     ]
    }
   ],
   "source": [
    "name = ['anit','amit','arav','sumit']\n",
    "for n in name:\n",
    "    print(n)"
   ]
  },
  {
   "cell_type": "code",
   "execution_count": 16,
   "metadata": {},
   "outputs": [
    {
     "name": "stdout",
     "output_type": "stream",
     "text": [
      "3\n"
     ]
    }
   ],
   "source": [
    "num = [1,2,2,23,2,4,5,33,2,4,3,3,4,6,6,6,2,2]\n",
    "x = 0\n",
    "for i in num:\n",
    "    if i == 6:\n",
    "        x += 1\n",
    "print(x)"
   ]
  },
  {
   "cell_type": "code",
   "execution_count": 51,
   "metadata": {},
   "outputs": [
    {
     "name": "stdout",
     "output_type": "stream",
     "text": [
      "['b', 'b']\n"
     ]
    }
   ],
   "source": [
    "a = ['a','a','b','b','t']\n",
    "s = []\n",
    "for n in a:\n",
    "    if n == 'b':\n",
    "        s += 'b'\n",
    "print(s)"
   ]
  },
  {
   "cell_type": "markdown",
   "metadata": {},
   "source": [
    "# While loop\n",
    "The while loop in Python is used to iterate over a block of code as long as the test expression (condition) is True.\n",
    "* We generally use this loop when we don't know the number of times to iterate beforehand.\n"
   ]
  },
  {
   "cell_type": "code",
   "execution_count": 4,
   "metadata": {},
   "outputs": [
    {
     "name": "stdout",
     "output_type": "stream",
     "text": [
      "running\n",
      "running\n",
      "running\n",
      "running\n",
      "stop\n"
     ]
    }
   ],
   "source": [
    "x = 1\n",
    "while x < 5:\n",
    "    print('running')\n",
    "    x += 1\n",
    "print('stop')"
   ]
  },
  {
   "cell_type": "code",
   "execution_count": 9,
   "metadata": {},
   "outputs": [
    {
     "name": "stdout",
     "output_type": "stream",
     "text": [
      "Success!\n",
      "stop\n"
     ]
    }
   ],
   "source": [
    "a = 2\n",
    "while a < 3:\n",
    "    print(\"Success!\")\n",
    "    a += 1\n",
    "print(\"stop\")"
   ]
  },
  {
   "cell_type": "code",
   "execution_count": 10,
   "metadata": {},
   "outputs": [
    {
     "name": "stdout",
     "output_type": "stream",
     "text": [
      "The sum is 15\n"
     ]
    }
   ],
   "source": [
    "n = 5\n",
    "sum = 0\n",
    "i =1\n",
    "\n",
    "while i <= n:\n",
    "    sum = sum + i\n",
    "    i = i+1\n",
    "\n",
    "print(\"The sum is\",sum)"
   ]
  },
  {
   "cell_type": "code",
   "execution_count": 14,
   "metadata": {},
   "outputs": [
    {
     "name": "stdout",
     "output_type": "stream",
     "text": [
      "The sum is 55\n"
     ]
    }
   ],
   "source": [
    "num = 10\n",
    "sum = 0\n",
    "i = 1\n",
    "\n",
    "while i <= num:\n",
    "    sum = sum + i\n",
    "    i = i + 1\n",
    "\n",
    "print(\"The sum is\", sum)"
   ]
  },
  {
   "cell_type": "code",
   "execution_count": 15,
   "metadata": {},
   "outputs": [
    {
     "name": "stdout",
     "output_type": "stream",
     "text": [
      "Continue running\n",
      "Continue running\n",
      "Continue running\n",
      "Continue running\n"
     ]
    }
   ],
   "source": [
    "while input(\"continue?\") == \"y\":\n",
    "    print(\"Continue running\")"
   ]
  },
  {
   "cell_type": "code",
   "execution_count": 17,
   "metadata": {},
   "outputs": [
    {
     "name": "stdout",
     "output_type": "stream",
     "text": [
      "Place is saved in database\n"
     ]
    }
   ],
   "source": [
    "while len(input(\"Place insert\"))  > 0:\n",
    "    print(\"Place is saved in database\")"
   ]
  },
  {
   "cell_type": "code",
   "execution_count": 21,
   "metadata": {},
   "outputs": [
    {
     "name": "stdout",
     "output_type": "stream",
     "text": [
      "200009099\n",
      "200009098\n"
     ]
    }
   ],
   "source": [
    "# break\n",
    "num = int(input(\"Enter a number: \"))\n",
    "while num > 0:\n",
    "    if num % 3 == 0:\n",
    "        break\n",
    "    print(num)\n",
    "    num -=1"
   ]
  },
  {
   "cell_type": "code",
   "execution_count": 24,
   "metadata": {},
   "outputs": [
    {
     "name": "stdout",
     "output_type": "stream",
     "text": [
      "Yes its available\n"
     ]
    }
   ],
   "source": [
    "name = ['amit','anit','abhi']\n",
    "while True:\n",
    "    if 'abhi' in name:\n",
    "        break\n",
    "print('Yes its available')"
   ]
  },
  {
   "cell_type": "code",
   "execution_count": 25,
   "metadata": {},
   "outputs": [],
   "source": [
    "story = \"\"\n",
    "while True:\n",
    "    line = input(\"Enter a line:\")\n",
    "    if line == \"\":\n",
    "        break\n",
    "    story += line + \"\\n\""
   ]
  },
  {
   "cell_type": "code",
   "execution_count": 26,
   "metadata": {},
   "outputs": [
    {
     "name": "stdout",
     "output_type": "stream",
     "text": [
      "This is first line\n",
      "This is second line\n",
      "This is last line \n",
      "\n"
     ]
    }
   ],
   "source": [
    "print(story)"
   ]
  },
  {
   "cell_type": "code",
   "execution_count": 28,
   "metadata": {},
   "outputs": [
    {
     "name": "stdout",
     "output_type": "stream",
     "text": [
      "['A', 'm', 'i', 't', '\\n', 'S', 'u', 'm', 'i', 't', '\\n', 'R', 'a', 'v', 'i', '\\n', 'A', 'r', 'u', 'n', '\\n']\n"
     ]
    }
   ],
   "source": [
    "name = []\n",
    "while True:\n",
    "    nm = input(\"Enter your name: \")\n",
    "    if nm == \"\":\n",
    "        break\n",
    "    name += nm + \"\\n\"\n",
    "print(name)"
   ]
  },
  {
   "cell_type": "code",
   "execution_count": 33,
   "metadata": {},
   "outputs": [
    {
     "name": "stdout",
     "output_type": "stream",
     "text": [
      "A\n",
      "B\n",
      "C\n",
      "D\n",
      "E\n",
      "\n"
     ]
    }
   ],
   "source": [
    "name = \"\"\n",
    "while True:\n",
    "    nm = input(\"Enter Word: \")\n",
    "    if nm == \"\":\n",
    "        break\n",
    "    name += nm + \"\\n\"\n",
    "print(name)"
   ]
  },
  {
   "cell_type": "code",
   "execution_count": 39,
   "metadata": {},
   "outputs": [
    {
     "name": "stdout",
     "output_type": "stream",
     "text": [
      "1\n",
      "2\n",
      "3\n",
      "4\n",
      "5\n",
      "6\n",
      "9\n",
      "9\n",
      "9\n",
      "9\n",
      "9\n",
      "9\n",
      "9\n"
     ]
    }
   ],
   "source": [
    "n = [1,2,3,4,5,6,9,9,9,9,9,9,9,0]\n",
    "for i in n:\n",
    "    if i == 0:\n",
    "        continue\n",
    "    print(i)"
   ]
  },
  {
   "cell_type": "code",
   "execution_count": 36,
   "metadata": {},
   "outputs": [
    {
     "name": "stdout",
     "output_type": "stream",
     "text": [
      "amit\n",
      "arav\n",
      "sumit\n"
     ]
    }
   ],
   "source": [
    "name = ['anit','amit','arav','sumit']\n",
    "for i in name:\n",
    "    if i == 'anit':\n",
    "        continue\n",
    "    print(i)"
   ]
  },
  {
   "cell_type": "markdown",
   "metadata": {},
   "source": [
    "# For else loop"
   ]
  },
  {
   "cell_type": "code",
   "execution_count": 48,
   "metadata": {},
   "outputs": [
    {
     "name": "stdout",
     "output_type": "stream",
     "text": [
      "Anit is not found\n"
     ]
    }
   ],
   "source": [
    "name = ['anit','amit','arav','sumit']\n",
    "for n in name:\n",
    "    if n == 'ant':\n",
    "        print(\"Anit is found\")\n",
    "        break\n",
    "else:\n",
    "    print(\"Anit is not found\")"
   ]
  },
  {
   "cell_type": "code",
   "execution_count": 43,
   "metadata": {},
   "outputs": [
    {
     "name": "stdout",
     "output_type": "stream",
     "text": [
      "We have some names anit\n",
      "We have some names amit\n",
      "We have some names arav\n",
      "We have some names sumit\n",
      "The loop is running successfully!\n"
     ]
    }
   ],
   "source": [
    "name = ['anit','amit','arav','sumit']\n",
    "for n in name:\n",
    "    print(\"We have some names\",n)\n",
    "else:\n",
    "    print(\"The loop is running successfully!\")"
   ]
  },
  {
   "cell_type": "code",
   "execution_count": 56,
   "metadata": {},
   "outputs": [
    {
     "name": "stdout",
     "output_type": "stream",
     "text": [
      "7/2 == 1\n",
      "7/3 == 1\n",
      "7/4 == 3\n",
      "7/5 == 2\n",
      "7/6 == 1\n",
      "7 is a prime number\n"
     ]
    }
   ],
   "source": [
    "# prime number program\n",
    "num = int(input('Enter a number: '))\n",
    "for i in range(2,num):\n",
    "    print(f'{num}/{i} == {num%i}')\n",
    "\n",
    "    if num % i == 0:\n",
    "        print(f\"{num} is not prime number\")\n",
    "        break\n",
    "else:\n",
    "    print(f\"{num} is a prime number\")"
   ]
  },
  {
   "cell_type": "markdown",
   "metadata": {},
   "source": [
    "# Enumerate and zip"
   ]
  },
  {
   "cell_type": "code",
   "execution_count": 57,
   "metadata": {},
   "outputs": [
    {
     "name": "stdout",
     "output_type": "stream",
     "text": [
      "(0, 'anit')\n",
      "(1, 'amit')\n",
      "(2, 'arav')\n",
      "(3, 'sumit')\n"
     ]
    }
   ],
   "source": [
    "name = ['anit','amit','arav','sumit']\n",
    "for i in enumerate(name):\n",
    "    print(i)"
   ]
  },
  {
   "cell_type": "code",
   "execution_count": 58,
   "metadata": {},
   "outputs": [
    {
     "name": "stdout",
     "output_type": "stream",
     "text": [
      "0 anit\n",
      "1 amit\n",
      "2 arav\n",
      "3 sumit\n"
     ]
    }
   ],
   "source": [
    "name = ['anit','amit','arav','sumit']\n",
    "for i, val in enumerate(name):\n",
    "    print(i,val)"
   ]
  },
  {
   "cell_type": "code",
   "execution_count": 59,
   "metadata": {},
   "outputs": [
    {
     "name": "stdout",
     "output_type": "stream",
     "text": [
      "13 13 42 13 10 15 13 26 19 19 21 16 "
     ]
    }
   ],
   "source": [
    "# sum total number in a list\n",
    "a = [1,2,32,1,2,3,2,12,3,4,6,5]\n",
    "b = [3,4,5,6,4,6,7,8,9,7,6,6,5]\n",
    "c = [9,7,5,6,4,6,4,6,7,8,9,5,6]\n",
    "\n",
    "for i,j,k in zip(a,b,c):\n",
    "    print(i+j+k, end=' ')\n"
   ]
  },
  {
   "cell_type": "code",
   "execution_count": 61,
   "metadata": {},
   "outputs": [
    {
     "name": "stdout",
     "output_type": "stream",
     "text": [
      "1 3 9\n",
      "2 4 7\n",
      "32 5 5\n",
      "1 6 6\n",
      "2 4 4\n",
      "3 6 6\n",
      "2 7 4\n",
      "12 8 6\n",
      "3 9 7\n",
      "4 7 8\n",
      "6 6 9\n",
      "5 6 5\n"
     ]
    }
   ],
   "source": [
    "a = [1,2,32,1,2,3,2,12,3,4,6,5]\n",
    "b = [3,4,5,6,4,6,7,8,9,7,6,6,5]\n",
    "c = [9,7,5,6,4,6,4,6,7,8,9,5,6]\n",
    "\n",
    "for i,j,k in zip(a,b,c):\n",
    "    print(i,j,k)"
   ]
  },
  {
   "cell_type": "code",
   "execution_count": 2,
   "metadata": {},
   "outputs": [
    {
     "name": "stdout",
     "output_type": "stream",
     "text": [
      "1\n",
      "2\n",
      "3\n"
     ]
    }
   ],
   "source": [
    "c = 0\n",
    "for i in range(11):\n",
    "    if i%5 == 0:\n",
    "        c += 1\n",
    "        print(c)"
   ]
  },
  {
   "cell_type": "code",
   "execution_count": null,
   "metadata": {},
   "outputs": [],
   "source": []
  }
 ],
 "metadata": {
  "interpreter": {
   "hash": "19d1d53a962d236aa061289c2ac16dc8e6d9648c89fe79f459ae9a3493bc67b4"
  },
  "kernelspec": {
   "display_name": "Python 3.9.12 ('base')",
   "language": "python",
   "name": "python3"
  },
  "language_info": {
   "codemirror_mode": {
    "name": "ipython",
    "version": 3
   },
   "file_extension": ".py",
   "mimetype": "text/x-python",
   "name": "python",
   "nbconvert_exporter": "python",
   "pygments_lexer": "ipython3",
   "version": "3.9.12"
  },
  "orig_nbformat": 4
 },
 "nbformat": 4,
 "nbformat_minor": 2
}
