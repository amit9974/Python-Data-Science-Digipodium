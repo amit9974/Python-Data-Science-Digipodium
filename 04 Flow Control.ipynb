{
 "cells": [
  {
   "cell_type": "markdown",
   "metadata": {},
   "source": [
    "# Simple Voting eligibilty check program"
   ]
  },
  {
   "cell_type": "code",
   "execution_count": 2,
   "metadata": {},
   "outputs": [
    {
     "name": "stdout",
     "output_type": "stream",
     "text": [
      "Sorry amit You can't vote .\n"
     ]
    }
   ],
   "source": [
    "name = input(\"Please enter your name : \")\n",
    "age = int(input(\"Please enter your age : \"))\n",
    "\n",
    "if age >= 18:\n",
    "    print(f\"Congratulations Mr. {name}, Yes you can vote! \")\n",
    "else:\n",
    "    print(f\"Sorry {name} You can't vote .\")\n"
   ]
  },
  {
   "cell_type": "markdown",
   "metadata": {},
   "source": [
    "# Do you like apples ?"
   ]
  },
  {
   "cell_type": "code",
   "execution_count": 3,
   "metadata": {},
   "outputs": [
    {
     "name": "stdout",
     "output_type": "stream",
     "text": [
      "purchase 2kg of apples\n"
     ]
    }
   ],
   "source": [
    "a = input(\"do you like apples \")\n",
    "if a == 'yes' or a == 'h':\n",
    "    print(\"purchase 2kg of apples\")\n",
    "if a == 'no' or a == 'nahi':\n",
    "    print(\"I don't like apples \")"
   ]
  },
  {
   "cell_type": "code",
   "execution_count": 7,
   "metadata": {},
   "outputs": [
    {
     "name": "stdout",
     "output_type": "stream",
     "text": [
      "the end\n"
     ]
    }
   ],
   "source": [
    "x = 10\n",
    "if x > 50:\n",
    "    print(\"x is greater than 5\")\n",
    "    print(\"this is the info we needed\")\n",
    "    print(\"with this power, comes great responsibilities\")\n",
    "print(\"the end\")"
   ]
  },
  {
   "cell_type": "markdown",
   "metadata": {},
   "source": [
    "# Temperature program"
   ]
  },
  {
   "cell_type": "code",
   "execution_count": 13,
   "metadata": {},
   "outputs": [
    {
     "name": "stdout",
     "output_type": "stream",
     "text": [
      "Wear winter cloth\n"
     ]
    }
   ],
   "source": [
    "temp = float(input(\"What is the today's temperature: \"))\n",
    "if temp > 60 and temp < 90:\n",
    "    print(\"Wear short's. \")\n",
    "elif temp >30 and temp < 60:\n",
    "    print(\"Wear winter cloth\")\n",
    "else:\n",
    "    print(\"You can wear anything\")"
   ]
  },
  {
   "cell_type": "markdown",
   "metadata": {},
   "source": [
    "# Score grading program"
   ]
  },
  {
   "cell_type": "code",
   "execution_count": 18,
   "metadata": {},
   "outputs": [
    {
     "name": "stdout",
     "output_type": "stream",
     "text": [
      "Your grade is B \n"
     ]
    }
   ],
   "source": [
    "# Score grading system\n",
    "score = int(input(\" Hi please the score : \"))\n",
    "\n",
    "if score >= 90:\n",
    "    print(\"Your grade is A\")\n",
    "elif score >=75 and score <=90:\n",
    "    print(\"Your grade is B \")\n",
    "elif score >=55 and score <= 75:\n",
    "    print(\"Your grade is C \")\n",
    "else:\n",
    "    print(\"You fail....\")"
   ]
  },
  {
   "cell_type": "markdown",
   "metadata": {},
   "source": [
    "# Min Max numbers find program"
   ]
  },
  {
   "cell_type": "code",
   "execution_count": 7,
   "metadata": {},
   "outputs": [
    {
     "name": "stdout",
     "output_type": "stream",
     "text": [
      "The biggest number is: 1000\n"
     ]
    }
   ],
   "source": [
    "num1 = int(input(\"Enter 1st number: \"))\n",
    "num2 = int(input(\"Enter 2nd number: \"))\n",
    "\n",
    "if (num1 > num2) or (num2 < num1):\n",
    "    print(f\"The biggest number is: {num1}\")\n",
    "elif num2 > num1 or num2 < num1:\n",
    "    print(f\"The biggest number is: {num2}\")\n",
    "    "
   ]
  },
  {
   "cell_type": "markdown",
   "metadata": {},
   "source": [
    "# Max Min find between 3 number"
   ]
  },
  {
   "cell_type": "code",
   "execution_count": 13,
   "metadata": {},
   "outputs": [
    {
     "name": "stdout",
     "output_type": "stream",
     "text": [
      "The biggest number is : 1000\n"
     ]
    }
   ],
   "source": [
    "num1 = int(input(\"Enter 1st Number: \"))\n",
    "num2 = int(input(\"Enter 2nd Number: \"))\n",
    "num3 = int(input(\"Enter 3rd Number: \"))\n",
    "\n",
    "if (num1>num2) and (num1>num3):\n",
    "    print(f\"The biggest number is : {num1}\")\n",
    "elif (num2>num1) and (num2>num3):\n",
    "    print(f\"The biggest number is: {num2}\")\n",
    "else:\n",
    "    print(f\"The biggest number is: {num3}\")"
   ]
  },
  {
   "cell_type": "markdown",
   "metadata": {},
   "source": [
    "# Loan Eligibility Checker program"
   ]
  },
  {
   "cell_type": "code",
   "execution_count": 11,
   "metadata": {},
   "outputs": [
    {
     "name": "stdout",
     "output_type": "stream",
     "text": [
      "Hi Mr.Amit Congratulations !! you are eligible for 3150000\n"
     ]
    }
   ],
   "source": [
    "name = input(\"Please Enter Your Name: \")\n",
    "company = input(\"Please Enter Your Company Name: \")\n",
    "designation = input(\"Please Enter Your Designation: \")\n",
    "salary = int(input(\"Please Enter Your Salary\"))\n",
    "\n",
    "if salary >= 10000 and salary <= 20000:\n",
    "    print(f\"Hi Mr.{name} Congratulations !! you are eligible for {salary * .7}\")\n",
    "elif salary >= 20000 and salary <=30000:\n",
    "    print(f\"Hi Mr.{name} Congratulations !! you are eligible for {salary * .7}\")\n",
    "elif salary >=30000 and salary <= 45000:\n",
    "    print(f\"Hi Mr.{name} Congratulations !! you are eligible for {salary * .7}\")\n",
    "elif salary >=45000 and salary >=50000:\n",
    "    print(f\"Hi Mr.{name} Congratulations !! you are eligible for {salary * .7}\")\n",
    "else:\n",
    "    print(f\"Sorry Mr.{name} we can't provide you loan, you are not eligible.\\nName : {name}\\nCompany Name : {company}\\nDesignation : {designation}\\nYour Salary : {salary}\\nMinimum Salary required : 10000\")\n"
   ]
  },
  {
   "cell_type": "markdown",
   "metadata": {},
   "source": [
    "# One liner statements\n",
    "This method is used to define single line statement"
   ]
  },
  {
   "cell_type": "code",
   "execution_count": 5,
   "metadata": {},
   "outputs": [
    {
     "name": "stdout",
     "output_type": "stream",
     "text": [
      "The HRA is 5%\n"
     ]
    }
   ],
   "source": [
    "salary = 29000\n",
    "if salary > 20000:\n",
    "    hra = '5%'\n",
    "else:\n",
    "    hra = '6%'\n",
    "print(f\"The HRA is {hra}\")"
   ]
  },
  {
   "cell_type": "code",
   "execution_count": 6,
   "metadata": {},
   "outputs": [
    {
     "name": "stdout",
     "output_type": "stream",
     "text": [
      "The HRA is 6%\n"
     ]
    }
   ],
   "source": [
    "hra = '5%' if salary>29000 else '6%'\n",
    "print(f\"The HRA is {hra}\")"
   ]
  },
  {
   "cell_type": "code",
   "execution_count": 8,
   "metadata": {},
   "outputs": [
    {
     "name": "stdout",
     "output_type": "stream",
     "text": [
      "23\n"
     ]
    }
   ],
   "source": [
    "print(\"40\") if 40 in [44,23,22,33,42] else print('23')"
   ]
  },
  {
   "cell_type": "code",
   "execution_count": 9,
   "metadata": {},
   "outputs": [
    {
     "name": "stdout",
     "output_type": "stream",
     "text": [
      "apple\n"
     ]
    }
   ],
   "source": [
    "print(\"mango\") if \"mango\" in [\"apple\",'banana','orage'] else print('apple')"
   ]
  },
  {
   "cell_type": "code",
   "execution_count": 10,
   "metadata": {},
   "outputs": [
    {
     "name": "stdout",
     "output_type": "stream",
     "text": [
      "mango\n"
     ]
    }
   ],
   "source": [
    "print(\"mango\") if \"mango\" in [\"apple\",'banana','mango'] else print('apple')"
   ]
  },
  {
   "cell_type": "code",
   "execution_count": null,
   "metadata": {},
   "outputs": [],
   "source": []
  },
  {
   "cell_type": "code",
   "execution_count": null,
   "metadata": {},
   "outputs": [],
   "source": []
  }
 ],
 "metadata": {
  "interpreter": {
   "hash": "26de051ba29f2982a8de78e945f0abaf191376122a1563185a90213a26c5da77"
  },
  "kernelspec": {
   "display_name": "Python 3.10.0 64-bit",
   "language": "python",
   "name": "python3"
  },
  "language_info": {
   "codemirror_mode": {
    "name": "ipython",
    "version": 3
   },
   "file_extension": ".py",
   "mimetype": "text/x-python",
   "name": "python",
   "nbconvert_exporter": "python",
   "pygments_lexer": "ipython3",
   "version": "3.10.0"
  },
  "orig_nbformat": 4
 },
 "nbformat": 4,
 "nbformat_minor": 2
}
