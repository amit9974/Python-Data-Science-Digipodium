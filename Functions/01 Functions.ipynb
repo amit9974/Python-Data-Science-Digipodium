{
 "cells": [
  {
   "cell_type": "markdown",
   "metadata": {},
   "source": [
    "# Functions"
   ]
  },
  {
   "cell_type": "code",
   "execution_count": 4,
   "metadata": {},
   "outputs": [
    {
     "name": "stdout",
     "output_type": "stream",
     "text": [
      "Simple Interest is 2000.0\n"
     ]
    }
   ],
   "source": [
    "# creation\n",
    "def si_calc():\n",
    "    p = float(input(\"Enter the principle: \"))\n",
    "    r = float(input(\"Enter the rate of interest: \"))\n",
    "    t = float(input(\"Enter the time: \"))\n",
    "    si = p * (r * t) / 100\n",
    "    print(f\"Simple Interest is {si}\")\n",
    "\n",
    "# usage\n",
    "# si_calc()"
   ]
  },
  {
   "cell_type": "code",
   "execution_count": 5,
   "metadata": {},
   "outputs": [
    {
     "name": "stdout",
     "output_type": "stream",
     "text": [
      "Simple Interest is 1093.7338728025254\n"
     ]
    }
   ],
   "source": [
    "def ci_calc():\n",
    "    p = float(input(\"Enter the principle: \"))\n",
    "    r = float(input(\"Enter the rate of interest: \"))\n",
    "    t = float(input(\"Enter the time: \"))\n",
    "    ci = p * (1 + r / 100) ** t\n",
    "    print(f\"Simple Interest is {ci}\")\n",
    "    \n",
    "# ci_calc()"
   ]
  },
  {
   "cell_type": "code",
   "execution_count": 7,
   "metadata": {},
   "outputs": [
    {
     "name": "stdout",
     "output_type": "stream",
     "text": [
      "Your name is Amit\n",
      "Your age is 23\n",
      "Your Company Name is TCS\n"
     ]
    }
   ],
   "source": [
    "def Employee_Details():\n",
    "    name = input(\"Enter the name: \")\n",
    "    age = int(input(\"Enter your age: \"))\n",
    "    company_name = input(\"Enter your company name: \")\n",
    "    print(f\"Your name is {name}\\nYour age is {age}\\nYour Company Name is {company_name}\")\n",
    "\n",
    "# Employee_Details()"
   ]
  },
  {
   "cell_type": "code",
   "execution_count": null,
   "metadata": {},
   "outputs": [],
   "source": []
  }
 ],
 "metadata": {
  "kernelspec": {
   "display_name": "Python 3.9.12 ('base')",
   "language": "python",
   "name": "python3"
  },
  "language_info": {
   "codemirror_mode": {
    "name": "ipython",
    "version": 3
   },
   "file_extension": ".py",
   "mimetype": "text/x-python",
   "name": "python",
   "nbconvert_exporter": "python",
   "pygments_lexer": "ipython3",
   "version": "3.9.12"
  },
  "orig_nbformat": 4,
  "vscode": {
   "interpreter": {
    "hash": "19d1d53a962d236aa061289c2ac16dc8e6d9648c89fe79f459ae9a3493bc67b4"
   }
  }
 },
 "nbformat": 4,
 "nbformat_minor": 2
}
