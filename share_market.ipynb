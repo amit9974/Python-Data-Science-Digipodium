{
 "cells": [
  {
   "cell_type": "code",
   "execution_count": 3,
   "metadata": {},
   "outputs": [],
   "source": [
    "from dputils import scrape as sc\n",
    "import pandas as pd"
   ]
  },
  {
   "cell_type": "code",
   "execution_count": 45,
   "metadata": {},
   "outputs": [
    {
     "name": "stdout",
     "output_type": "stream",
     "text": [
      "https://www.instagram.com/iindia/\n"
     ]
    }
   ],
   "source": [
    "query = 'india'\n",
    "url = f'https://www.instagram.com/i{query}/'\n",
    "print(url)\n",
    "soup = (sc.get_webpage_data(url))"
   ]
  },
  {
   "cell_type": "code",
   "execution_count": 48,
   "metadata": {},
   "outputs": [],
   "source": [
    "target = {\n",
    "    'tag':'div', 'attrs':{'class':'v9tJq AAaSh'}\n",
    "}\n",
    "\n",
    "items = {\n",
    "    'tag':'span', 'attrs':{'class':'g47SY'}\n",
    "}\n",
    "\n",
    "# last_price ={\n",
    "#     'tag':'cell-ghhqKDrt last-ghhqKDrt', 'attrs':{'cell-ghhqKDrt last-ghhqKDrt'}\n",
    "# }\n",
    "\n",
    "# change_price = {\n",
    "#     'tag':'span', 'attrs':{'inner-ghhqKDrt plus-ghhqKDrt'}\n",
    "# }\n",
    "\n"
   ]
  },
  {
   "cell_type": "code",
   "execution_count": 49,
   "metadata": {},
   "outputs": [
    {
     "name": "stdout",
     "output_type": "stream",
     "text": [
      "Could not find target section with this div and {'class': 'v9tJq AAaSh'}\n",
      "None\n"
     ]
    }
   ],
   "source": [
    "result = sc.extract_many(soup, target=target, items=items)\n",
    "print(result)"
   ]
  }
 ],
 "metadata": {
  "kernelspec": {
   "display_name": "Python 3.10.0 64-bit",
   "language": "python",
   "name": "python3"
  },
  "language_info": {
   "codemirror_mode": {
    "name": "ipython",
    "version": 3
   },
   "file_extension": ".py",
   "mimetype": "text/x-python",
   "name": "python",
   "nbconvert_exporter": "python",
   "pygments_lexer": "ipython3",
   "version": "3.10.0"
  },
  "orig_nbformat": 4,
  "vscode": {
   "interpreter": {
    "hash": "26de051ba29f2982a8de78e945f0abaf191376122a1563185a90213a26c5da77"
   }
  }
 },
 "nbformat": 4,
 "nbformat_minor": 2
}
