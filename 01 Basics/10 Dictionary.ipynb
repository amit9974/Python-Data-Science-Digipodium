{
 "cells": [
  {
   "cell_type": "code",
   "execution_count": 33,
   "metadata": {},
   "outputs": [
    {
     "name": "stdout",
     "output_type": "stream",
     "text": [
      "{1: 'apple', 2: 'mango'}\n"
     ]
    }
   ],
   "source": [
    "# Dictionary\n",
    "my_dict = {1: 'apple', 2: 'mango'}\n",
    "print(my_dict)"
   ]
  },
  {
   "cell_type": "code",
   "execution_count": 34,
   "metadata": {},
   "outputs": [
    {
     "name": "stdout",
     "output_type": "stream",
     "text": [
      "Amit Kumar\n"
     ]
    }
   ],
   "source": [
    "# Accessing elements from dictionary\n",
    "my_dict = {'name':'Amit Kumar', 'age':23}\n",
    "print(my_dict['name'])"
   ]
  },
  {
   "cell_type": "code",
   "execution_count": 35,
   "metadata": {},
   "outputs": [
    {
     "name": "stdout",
     "output_type": "stream",
     "text": [
      "23\n"
     ]
    }
   ],
   "source": [
    "print(my_dict.get('age'))"
   ]
  },
  {
   "cell_type": "code",
   "execution_count": 36,
   "metadata": {},
   "outputs": [
    {
     "ename": "KeyError",
     "evalue": "'address'",
     "output_type": "error",
     "traceback": [
      "\u001b[1;31m---------------------------------------------------------------------------\u001b[0m",
      "\u001b[1;31mKeyError\u001b[0m                                  Traceback (most recent call last)",
      "\u001b[1;32me:\\VS Code\\Python Data Science Digipodium\\Dictionary.ipynb Cell 4'\u001b[0m in \u001b[0;36m<cell line: 1>\u001b[1;34m()\u001b[0m\n\u001b[1;32m----> <a href='vscode-notebook-cell:/e%3A/VS%20Code/Python%20Data%20Science%20Digipodium/Dictionary.ipynb#ch0000003?line=0'>1</a>\u001b[0m \u001b[39mprint\u001b[39m(my_dict[\u001b[39m'\u001b[39;49m\u001b[39maddress\u001b[39;49m\u001b[39m'\u001b[39;49m])\n",
      "\u001b[1;31mKeyError\u001b[0m: 'address'"
     ]
    }
   ],
   "source": [
    "print(my_dict['address'])"
   ]
  },
  {
   "cell_type": "code",
   "execution_count": null,
   "metadata": {},
   "outputs": [
    {
     "name": "stdout",
     "output_type": "stream",
     "text": [
      "None\n"
     ]
    }
   ],
   "source": [
    "print(my_dict.get('address'))"
   ]
  },
  {
   "cell_type": "markdown",
   "metadata": {},
   "source": [
    "# Update, Add"
   ]
  },
  {
   "cell_type": "code",
   "execution_count": null,
   "metadata": {},
   "outputs": [
    {
     "name": "stdout",
     "output_type": "stream",
     "text": [
      "{'name': 'AmitKumar', 'age': 24}\n"
     ]
    }
   ],
   "source": [
    "my_dict = {'name':'AmitKumar','age': 23}\n",
    "my_dict['age'] = 24\n",
    "print(my_dict)"
   ]
  },
  {
   "cell_type": "code",
   "execution_count": null,
   "metadata": {},
   "outputs": [
    {
     "name": "stdout",
     "output_type": "stream",
     "text": [
      "{'name': 'AmitKumar', 'age': 24, 'address': 'Lucknow'}\n"
     ]
    }
   ],
   "source": [
    "my_dict['address'] = 'Lucknow'\n",
    "print(my_dict)\n"
   ]
  },
  {
   "cell_type": "markdown",
   "metadata": {},
   "source": [
    "# Removing element from dict"
   ]
  },
  {
   "cell_type": "code",
   "execution_count": null,
   "metadata": {},
   "outputs": [
    {
     "data": {
      "text/plain": [
       "dict"
      ]
     },
     "execution_count": 25,
     "metadata": {},
     "output_type": "execute_result"
    }
   ],
   "source": [
    "square = {1: 1, 2: 2, 3: 3, 4: 4, 5: 5 , 6: 6}\n",
    "type(square)"
   ]
  },
  {
   "cell_type": "code",
   "execution_count": null,
   "metadata": {},
   "outputs": [
    {
     "name": "stdout",
     "output_type": "stream",
     "text": [
      "3\n"
     ]
    }
   ],
   "source": [
    "print(square.pop(3))"
   ]
  },
  {
   "cell_type": "code",
   "execution_count": null,
   "metadata": {},
   "outputs": [
    {
     "ename": "NameError",
     "evalue": "name 'square' is not defined",
     "output_type": "error",
     "traceback": [
      "\u001b[1;31m---------------------------------------------------------------------------\u001b[0m",
      "\u001b[1;31mNameError\u001b[0m                                 Traceback (most recent call last)",
      "\u001b[1;32me:\\VS Code\\Python Data Science Digipodium\\Dictionary.ipynb Cell 12'\u001b[0m in \u001b[0;36m<cell line: 1>\u001b[1;34m()\u001b[0m\n\u001b[1;32m----> <a href='vscode-notebook-cell:/e%3A/VS%20Code/Python%20Data%20Science%20Digipodium/Dictionary.ipynb#ch0000011?line=0'>1</a>\u001b[0m \u001b[39mprint\u001b[39m(square\u001b[39m.\u001b[39mpopitem())\n",
      "\u001b[1;31mNameError\u001b[0m: name 'square' is not defined"
     ]
    }
   ],
   "source": [
    "print(square.popitem()) # remove randomaly"
   ]
  },
  {
   "cell_type": "code",
   "execution_count": null,
   "metadata": {},
   "outputs": [],
   "source": [
    "# square.clear()  # remove all item"
   ]
  },
  {
   "cell_type": "code",
   "execution_count": 37,
   "metadata": {},
   "outputs": [],
   "source": [
    "# del square  # delete the unwanted variable"
   ]
  },
  {
   "cell_type": "code",
   "execution_count": 39,
   "metadata": {},
   "outputs": [],
   "source": [
    "# Iterating through dict\n",
    "square = {1:1, 2:4, 3:9, 4:16, 5:25}"
   ]
  },
  {
   "cell_type": "code",
   "execution_count": 41,
   "metadata": {},
   "outputs": [
    {
     "name": "stdout",
     "output_type": "stream",
     "text": [
      "1\n",
      "2\n",
      "3\n",
      "4\n",
      "5\n"
     ]
    }
   ],
   "source": [
    "# print only keys\n",
    "for i in square:\n",
    "    print(i)"
   ]
  },
  {
   "cell_type": "code",
   "execution_count": 42,
   "metadata": {},
   "outputs": [
    {
     "name": "stdout",
     "output_type": "stream",
     "text": [
      "1 1\n",
      "2 4\n",
      "3 9\n",
      "4 16\n",
      "5 25\n"
     ]
    }
   ],
   "source": [
    "# using items() function to get both key and value\n",
    "for k,v in square.items():\n",
    "    print(k,v)"
   ]
  },
  {
   "cell_type": "code",
   "execution_count": 44,
   "metadata": {},
   "outputs": [
    {
     "name": "stdout",
     "output_type": "stream",
     "text": [
      "1\n",
      "4\n",
      "9\n",
      "16\n",
      "25\n"
     ]
    }
   ],
   "source": [
    "# only value using i as key\n",
    "\n",
    "for i in square:\n",
    "    print(square[i])"
   ]
  },
  {
   "cell_type": "markdown",
   "metadata": {},
   "source": [
    "# Activity\n",
    "\n",
    "Create a dictioanry and add 5 student and contains their marks with 5 subjects."
   ]
  },
  {
   "cell_type": "code",
   "execution_count": 52,
   "metadata": {},
   "outputs": [],
   "source": [
    "students = {\n",
    "    'Amit':{\n",
    "        'eng':90,\n",
    "        'math':80,\n",
    "        'sci':80,\n",
    "        'math':89,\n",
    "        'comp': 99,\n",
    "    },\n",
    "     'Rahul':{\n",
    "        'eng':90,\n",
    "        'math':80,\n",
    "        'sci':80,\n",
    "        'math':89,\n",
    "        'comp': 99,\n",
    "    },\n",
    "     'Sumit':{\n",
    "        'eng':90,\n",
    "        'math':80,\n",
    "        'sci':80,\n",
    "        'math':89,\n",
    "        'comp': 99,\n",
    "    },\n",
    "     'Arun':{\n",
    "        'eng':90,\n",
    "        'math':80,\n",
    "        'sci':80,\n",
    "        'math':89,\n",
    "        'comp': 99,\n",
    "    },\n",
    "    \n",
    "}\n"
   ]
  },
  {
   "cell_type": "code",
   "execution_count": 53,
   "metadata": {},
   "outputs": [
    {
     "name": "stdout",
     "output_type": "stream",
     "text": [
      "{'eng': 90, 'math': 89, 'sci': 80, 'comp': 99}\n"
     ]
    }
   ],
   "source": [
    "print(students['Amit'])"
   ]
  },
  {
   "cell_type": "code",
   "execution_count": 54,
   "metadata": {},
   "outputs": [
    {
     "name": "stdout",
     "output_type": "stream",
     "text": [
      "90\n"
     ]
    }
   ],
   "source": [
    "print(students['Arun']['eng'])"
   ]
  },
  {
   "cell_type": "code",
   "execution_count": 60,
   "metadata": {},
   "outputs": [
    {
     "name": "stdout",
     "output_type": "stream",
     "text": [
      "Amit\n",
      "eng => 90\n",
      "math => 89\n",
      "sci => 80\n",
      "comp => 99\n",
      "--------------------\n",
      "Rahul\n",
      "eng => 90\n",
      "math => 89\n",
      "sci => 80\n",
      "comp => 99\n",
      "--------------------\n",
      "Sumit\n",
      "eng => 90\n",
      "math => 89\n",
      "sci => 80\n",
      "comp => 99\n",
      "--------------------\n",
      "Arun\n",
      "eng => 90\n",
      "math => 89\n",
      "sci => 80\n",
      "comp => 99\n",
      "--------------------\n"
     ]
    }
   ],
   "source": [
    "for name, marks in students.items():\n",
    "        print(name)\n",
    "        for sub, marks in marks.items():\n",
    "            print(f\"{sub} => {marks}\")\n",
    "        print('-'*20)"
   ]
  },
  {
   "cell_type": "code",
   "execution_count": null,
   "metadata": {},
   "outputs": [],
   "source": []
  }
 ],
 "metadata": {
  "kernelspec": {
   "display_name": "Python 3.9.12 ('base')",
   "language": "python",
   "name": "python3"
  },
  "language_info": {
   "codemirror_mode": {
    "name": "ipython",
    "version": 3
   },
   "file_extension": ".py",
   "mimetype": "text/x-python",
   "name": "python",
   "nbconvert_exporter": "python",
   "pygments_lexer": "ipython3",
   "version": "3.9.12"
  },
  "orig_nbformat": 4,
  "vscode": {
   "interpreter": {
    "hash": "19d1d53a962d236aa061289c2ac16dc8e6d9648c89fe79f459ae9a3493bc67b4"
   }
  }
 },
 "nbformat": 4,
 "nbformat_minor": 2
}
