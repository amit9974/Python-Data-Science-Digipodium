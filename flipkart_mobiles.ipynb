{
 "cells": [
  {
   "cell_type": "code",
   "execution_count": 1,
   "metadata": {},
   "outputs": [],
   "source": [
    "from dputils import scrape as sc\n",
    "import pandas as pd"
   ]
  },
  {
   "cell_type": "code",
   "execution_count": 11,
   "metadata": {},
   "outputs": [
    {
     "name": "stdout",
     "output_type": "stream",
     "text": [
      "https://www.flipkart.com/search?q=mobiles\n"
     ]
    }
   ],
   "source": [
    "query = 'mobiles'\n",
    "url = f'https://www.flipkart.com/search?q={query}'\n",
    "soup = sc.get_webpage_data(url)\n",
    "print(url)"
   ]
  },
  {
   "cell_type": "code",
   "execution_count": null,
   "metadata": {},
   "outputs": [],
   "source": []
  },
  {
   "cell_type": "code",
   "execution_count": 22,
   "metadata": {},
   "outputs": [],
   "source": [
    "target = {\n",
    "    'tag':'div', 'attrs':{'class':'_1YokD2 _3Mn1Gg'}\n",
    "}\n",
    "\n",
    "items = {\n",
    "    'tag':'div', 'attrs':{'class':'_2kHMtA'}\n",
    "}\n",
    "\n",
    "product_name = {\n",
    "    'tag':'div', 'attrs':{'class':'_4rR01T'}\n",
    "}\n",
    "\n",
    "price = {\n",
    "    'tag':'div', 'attrs':{'_30jeq3 _1_WHN1'}\n",
    "}\n"
   ]
  },
  {
   "cell_type": "code",
   "execution_count": 25,
   "metadata": {},
   "outputs": [
    {
     "name": "stdout",
     "output_type": "stream",
     "text": [
      "24 items found\n",
      "All items extracted\n",
      "[{'product_name': 'SAMSUNG Galaxy F12 (Sky Blue, 128 GB)', 'price': '₹11,499'}, {'product_name': 'OPPO K10 5G (Ocean Blue, 128 GB)', 'price': '₹17,499'}, {'product_name': 'REDMI Note 10S (Frost White, 64 GB)', 'price': '₹12,499'}, {'product_name': 'POCO C31 (Royal Blue, 32 GB)', 'price': '₹8,499'}, {'product_name': 'SAMSUNG Galaxy F12 (Sky Blue, 64 GB)', 'price': '₹10,499'}, {'product_name': 'Infinix HOT 12 Play (Horizon Blue, 64 GB)', 'price': '₹8,499'}, {'product_name': 'POCO C31 (Shadow Gray, 64 GB)', 'price': '₹9,499'}, {'product_name': 'SAMSUNG Galaxy F22 (Denim Blue, 64 GB)', 'price': '₹11,999'}, {'product_name': 'REDMI 9i Sport (Metallic Blue, 64 GB)', 'price': '₹8,799'}, {'product_name': 'Infinix Note 12 (Force Black, 64 GB)', 'price': '₹9,999'}, {'product_name': 'REDMI 9i Sport (Carbon Black, 64 GB)', 'price': '₹8,799'}, {'product_name': 'POCO C31 (Shadow Gray, 32 GB)', 'price': '₹8,499'}, {'product_name': 'SAMSUNG Galaxy F12 (Sea Green, 128 GB)', 'price': '₹11,499'}, {'product_name': 'POCO C31 (Royal Blue, 64 GB)', 'price': '₹9,499'}, {'product_name': 'OPPO K10 (Black Carbon, 128 GB)', 'price': '₹14,990'}, {'product_name': 'OPPO K10 (Blue Flame, 128 GB)', 'price': '₹14,990'}, {'product_name': 'Nothing Phone (1) (White, 256 GB)', 'price': '₹38,999'}, {'product_name': 'SAMSUNG Galaxy F12 (Sea Green, 64 GB)', 'price': '₹10,499'}, {'product_name': 'REDMI 10 (Pacific Blue, 64 GB)', 'price': '₹10,999'}, {'product_name': 'REDMI 10 (Midnight Black, 64 GB)', 'price': '₹10,999'}, {'product_name': 'REDMI 10 (Caribbean Green, 64 GB)', 'price': '₹10,999'}, {'product_name': 'REDMI Note 10T 5G (Chromium White, 64 GB)', 'price': '₹13,499'}, {'product_name': 'REDMI Note 10T 5G (Metallic Blue, 64 GB)', 'price': '₹13,499'}, {'product_name': 'SAMSUNG Galaxy F22 (Denim Blue, 128 GB)', 'price': '₹13,999'}]\n"
     ]
    }
   ],
   "source": [
    "result = sc.extract_many(soup, target=target, items=items, product_name=product_name, price=price)\n",
    "print(result)"
   ]
  },
  {
   "cell_type": "code",
   "execution_count": 26,
   "metadata": {},
   "outputs": [
    {
     "data": {
      "text/html": [
       "<div>\n",
       "<style scoped>\n",
       "    .dataframe tbody tr th:only-of-type {\n",
       "        vertical-align: middle;\n",
       "    }\n",
       "\n",
       "    .dataframe tbody tr th {\n",
       "        vertical-align: top;\n",
       "    }\n",
       "\n",
       "    .dataframe thead th {\n",
       "        text-align: right;\n",
       "    }\n",
       "</style>\n",
       "<table border=\"1\" class=\"dataframe\">\n",
       "  <thead>\n",
       "    <tr style=\"text-align: right;\">\n",
       "      <th></th>\n",
       "      <th>product_name</th>\n",
       "      <th>price</th>\n",
       "    </tr>\n",
       "  </thead>\n",
       "  <tbody>\n",
       "    <tr>\n",
       "      <th>0</th>\n",
       "      <td>SAMSUNG Galaxy F12 (Sky Blue, 128 GB)</td>\n",
       "      <td>₹11,499</td>\n",
       "    </tr>\n",
       "    <tr>\n",
       "      <th>1</th>\n",
       "      <td>OPPO K10 5G (Ocean Blue, 128 GB)</td>\n",
       "      <td>₹17,499</td>\n",
       "    </tr>\n",
       "    <tr>\n",
       "      <th>2</th>\n",
       "      <td>REDMI Note 10S (Frost White, 64 GB)</td>\n",
       "      <td>₹12,499</td>\n",
       "    </tr>\n",
       "    <tr>\n",
       "      <th>3</th>\n",
       "      <td>POCO C31 (Royal Blue, 32 GB)</td>\n",
       "      <td>₹8,499</td>\n",
       "    </tr>\n",
       "    <tr>\n",
       "      <th>4</th>\n",
       "      <td>SAMSUNG Galaxy F12 (Sky Blue, 64 GB)</td>\n",
       "      <td>₹10,499</td>\n",
       "    </tr>\n",
       "    <tr>\n",
       "      <th>5</th>\n",
       "      <td>Infinix HOT 12 Play (Horizon Blue, 64 GB)</td>\n",
       "      <td>₹8,499</td>\n",
       "    </tr>\n",
       "    <tr>\n",
       "      <th>6</th>\n",
       "      <td>POCO C31 (Shadow Gray, 64 GB)</td>\n",
       "      <td>₹9,499</td>\n",
       "    </tr>\n",
       "    <tr>\n",
       "      <th>7</th>\n",
       "      <td>SAMSUNG Galaxy F22 (Denim Blue, 64 GB)</td>\n",
       "      <td>₹11,999</td>\n",
       "    </tr>\n",
       "    <tr>\n",
       "      <th>8</th>\n",
       "      <td>REDMI 9i Sport (Metallic Blue, 64 GB)</td>\n",
       "      <td>₹8,799</td>\n",
       "    </tr>\n",
       "    <tr>\n",
       "      <th>9</th>\n",
       "      <td>Infinix Note 12 (Force Black, 64 GB)</td>\n",
       "      <td>₹9,999</td>\n",
       "    </tr>\n",
       "    <tr>\n",
       "      <th>10</th>\n",
       "      <td>REDMI 9i Sport (Carbon Black, 64 GB)</td>\n",
       "      <td>₹8,799</td>\n",
       "    </tr>\n",
       "    <tr>\n",
       "      <th>11</th>\n",
       "      <td>POCO C31 (Shadow Gray, 32 GB)</td>\n",
       "      <td>₹8,499</td>\n",
       "    </tr>\n",
       "    <tr>\n",
       "      <th>12</th>\n",
       "      <td>SAMSUNG Galaxy F12 (Sea Green, 128 GB)</td>\n",
       "      <td>₹11,499</td>\n",
       "    </tr>\n",
       "    <tr>\n",
       "      <th>13</th>\n",
       "      <td>POCO C31 (Royal Blue, 64 GB)</td>\n",
       "      <td>₹9,499</td>\n",
       "    </tr>\n",
       "    <tr>\n",
       "      <th>14</th>\n",
       "      <td>OPPO K10 (Black Carbon, 128 GB)</td>\n",
       "      <td>₹14,990</td>\n",
       "    </tr>\n",
       "    <tr>\n",
       "      <th>15</th>\n",
       "      <td>OPPO K10 (Blue Flame, 128 GB)</td>\n",
       "      <td>₹14,990</td>\n",
       "    </tr>\n",
       "    <tr>\n",
       "      <th>16</th>\n",
       "      <td>Nothing Phone (1) (White, 256 GB)</td>\n",
       "      <td>₹38,999</td>\n",
       "    </tr>\n",
       "    <tr>\n",
       "      <th>17</th>\n",
       "      <td>SAMSUNG Galaxy F12 (Sea Green, 64 GB)</td>\n",
       "      <td>₹10,499</td>\n",
       "    </tr>\n",
       "    <tr>\n",
       "      <th>18</th>\n",
       "      <td>REDMI 10 (Pacific Blue, 64 GB)</td>\n",
       "      <td>₹10,999</td>\n",
       "    </tr>\n",
       "    <tr>\n",
       "      <th>19</th>\n",
       "      <td>REDMI 10 (Midnight Black, 64 GB)</td>\n",
       "      <td>₹10,999</td>\n",
       "    </tr>\n",
       "    <tr>\n",
       "      <th>20</th>\n",
       "      <td>REDMI 10 (Caribbean Green, 64 GB)</td>\n",
       "      <td>₹10,999</td>\n",
       "    </tr>\n",
       "    <tr>\n",
       "      <th>21</th>\n",
       "      <td>REDMI Note 10T 5G (Chromium White, 64 GB)</td>\n",
       "      <td>₹13,499</td>\n",
       "    </tr>\n",
       "    <tr>\n",
       "      <th>22</th>\n",
       "      <td>REDMI Note 10T 5G (Metallic Blue, 64 GB)</td>\n",
       "      <td>₹13,499</td>\n",
       "    </tr>\n",
       "    <tr>\n",
       "      <th>23</th>\n",
       "      <td>SAMSUNG Galaxy F22 (Denim Blue, 128 GB)</td>\n",
       "      <td>₹13,999</td>\n",
       "    </tr>\n",
       "  </tbody>\n",
       "</table>\n",
       "</div>"
      ],
      "text/plain": [
       "                                 product_name    price\n",
       "0       SAMSUNG Galaxy F12 (Sky Blue, 128 GB)  ₹11,499\n",
       "1            OPPO K10 5G (Ocean Blue, 128 GB)  ₹17,499\n",
       "2         REDMI Note 10S (Frost White, 64 GB)  ₹12,499\n",
       "3                POCO C31 (Royal Blue, 32 GB)   ₹8,499\n",
       "4        SAMSUNG Galaxy F12 (Sky Blue, 64 GB)  ₹10,499\n",
       "5   Infinix HOT 12 Play (Horizon Blue, 64 GB)   ₹8,499\n",
       "6               POCO C31 (Shadow Gray, 64 GB)   ₹9,499\n",
       "7      SAMSUNG Galaxy F22 (Denim Blue, 64 GB)  ₹11,999\n",
       "8       REDMI 9i Sport (Metallic Blue, 64 GB)   ₹8,799\n",
       "9        Infinix Note 12 (Force Black, 64 GB)   ₹9,999\n",
       "10       REDMI 9i Sport (Carbon Black, 64 GB)   ₹8,799\n",
       "11              POCO C31 (Shadow Gray, 32 GB)   ₹8,499\n",
       "12     SAMSUNG Galaxy F12 (Sea Green, 128 GB)  ₹11,499\n",
       "13               POCO C31 (Royal Blue, 64 GB)   ₹9,499\n",
       "14            OPPO K10 (Black Carbon, 128 GB)  ₹14,990\n",
       "15              OPPO K10 (Blue Flame, 128 GB)  ₹14,990\n",
       "16          Nothing Phone (1) (White, 256 GB)  ₹38,999\n",
       "17      SAMSUNG Galaxy F12 (Sea Green, 64 GB)  ₹10,499\n",
       "18             REDMI 10 (Pacific Blue, 64 GB)  ₹10,999\n",
       "19           REDMI 10 (Midnight Black, 64 GB)  ₹10,999\n",
       "20          REDMI 10 (Caribbean Green, 64 GB)  ₹10,999\n",
       "21  REDMI Note 10T 5G (Chromium White, 64 GB)  ₹13,499\n",
       "22   REDMI Note 10T 5G (Metallic Blue, 64 GB)  ₹13,499\n",
       "23    SAMSUNG Galaxy F22 (Denim Blue, 128 GB)  ₹13,999"
      ]
     },
     "execution_count": 26,
     "metadata": {},
     "output_type": "execute_result"
    }
   ],
   "source": [
    "df = pd.DataFrame(result)\n",
    "df"
   ]
  }
 ],
 "metadata": {
  "kernelspec": {
   "display_name": "Python 3.10.0 64-bit",
   "language": "python",
   "name": "python3"
  },
  "language_info": {
   "codemirror_mode": {
    "name": "ipython",
    "version": 3
   },
   "file_extension": ".py",
   "mimetype": "text/x-python",
   "name": "python",
   "nbconvert_exporter": "python",
   "pygments_lexer": "ipython3",
   "version": "3.10.0"
  },
  "orig_nbformat": 4,
  "vscode": {
   "interpreter": {
    "hash": "26de051ba29f2982a8de78e945f0abaf191376122a1563185a90213a26c5da77"
   }
  }
 },
 "nbformat": 4,
 "nbformat_minor": 2
}
