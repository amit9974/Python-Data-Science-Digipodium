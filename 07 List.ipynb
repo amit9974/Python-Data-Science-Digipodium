{
 "cells": [
  {
   "cell_type": "markdown",
   "metadata": {},
   "source": [
    "# Data Structure\n",
    "# List\n",
    "- indexed structure\n",
    "- mutable\n",
    "- ordered\n",
    "- can contains duplicate\n",
    "- hetrogeneos values\n",
    "- can be nested\n",
    "- list has 11 methods\n",
    "- 'list()' is the function convert to other iterble to lists.\n",
    "- string is immutale "
   ]
  },
  {
   "cell_type": "code",
   "execution_count": 2,
   "metadata": {},
   "outputs": [
    {
     "data": {
      "text/plain": [
       "'RRR'"
      ]
     },
     "execution_count": 2,
     "metadata": {},
     "output_type": "execute_result"
    }
   ],
   "source": [
    "movies = ['RRR','Attack','Avengers', 'Avatar','Badshah']\n",
    "movies[0]"
   ]
  },
  {
   "cell_type": "code",
   "execution_count": 3,
   "metadata": {},
   "outputs": [
    {
     "data": {
      "text/plain": [
       "'Attack'"
      ]
     },
     "execution_count": 3,
     "metadata": {},
     "output_type": "execute_result"
    }
   ],
   "source": [
    "movies[1]"
   ]
  },
  {
   "cell_type": "code",
   "execution_count": 4,
   "metadata": {},
   "outputs": [
    {
     "data": {
      "text/plain": [
       "'Badshah'"
      ]
     },
     "execution_count": 4,
     "metadata": {},
     "output_type": "execute_result"
    }
   ],
   "source": [
    "movies[-1]"
   ]
  },
  {
   "cell_type": "code",
   "execution_count": 5,
   "metadata": {},
   "outputs": [
    {
     "name": "stdout",
     "output_type": "stream",
     "text": [
      "['RRR', 'ABCD', 'Avengers', 'Avatar', 'Badshah']\n"
     ]
    }
   ],
   "source": [
    "# replace the value\n",
    "movies[1] = 'ABCD'\n",
    "print(movies)"
   ]
  },
  {
   "cell_type": "code",
   "execution_count": 6,
   "metadata": {},
   "outputs": [
    {
     "data": {
      "text/plain": [
       "['RRR', 'ABCD']"
      ]
     },
     "execution_count": 6,
     "metadata": {},
     "output_type": "execute_result"
    }
   ],
   "source": [
    "# 1st two movies\n",
    "movies[0:2]"
   ]
  },
  {
   "cell_type": "code",
   "execution_count": 7,
   "metadata": {},
   "outputs": [
    {
     "data": {
      "text/plain": [
       "['Avatar', 'Badshah']"
      ]
     },
     "execution_count": 7,
     "metadata": {},
     "output_type": "execute_result"
    }
   ],
   "source": [
    "# last 2 movies\n",
    "movies[-2:]"
   ]
  },
  {
   "cell_type": "code",
   "execution_count": 8,
   "metadata": {},
   "outputs": [
    {
     "data": {
      "text/plain": [
       "['ABCD', 'Avatar']"
      ]
     },
     "execution_count": 8,
     "metadata": {},
     "output_type": "execute_result"
    }
   ],
   "source": [
    "movies[1::2] # every second element(odd index)"
   ]
  },
  {
   "cell_type": "code",
   "execution_count": 9,
   "metadata": {},
   "outputs": [
    {
     "data": {
      "text/plain": [
       "['Badshah', 'Avatar', 'Avengers', 'ABCD', 'RRR']"
      ]
     },
     "execution_count": 9,
     "metadata": {},
     "output_type": "execute_result"
    }
   ],
   "source": [
    "movies[::-1] # reverse the list"
   ]
  },
  {
   "cell_type": "code",
   "execution_count": 10,
   "metadata": {},
   "outputs": [
    {
     "name": "stdout",
     "output_type": "stream",
     "text": [
      "I have watch RRR\n",
      "I have watch ABCD\n",
      "I have watch Avengers\n",
      "I have watch Avatar\n",
      "I have watch Badshah\n"
     ]
    }
   ],
   "source": [
    "for m in movies:   # loop in list\n",
    "    print(f'I have watch {m}')"
   ]
  },
  {
   "cell_type": "markdown",
   "metadata": {},
   "source": [
    "# function and operation on list\n"
   ]
  },
  {
   "cell_type": "code",
   "execution_count": 11,
   "metadata": {},
   "outputs": [
    {
     "name": "stdout",
     "output_type": "stream",
     "text": [
      "[10, 10, 10, 10, 10, 10, 10, 10, 10, 10]\n"
     ]
    }
   ],
   "source": [
    "x = [10] * 10\n",
    "print(x)"
   ]
  },
  {
   "cell_type": "code",
   "execution_count": 12,
   "metadata": {},
   "outputs": [
    {
     "data": {
      "text/plain": [
       "[1, 2, 3, 4, 5, 6, 7, 8]"
      ]
     },
     "execution_count": 12,
     "metadata": {},
     "output_type": "execute_result"
    }
   ],
   "source": [
    "x = [1,2,3,4]\n",
    "y = [5,6,7,8]\n",
    "x + y"
   ]
  },
  {
   "cell_type": "code",
   "execution_count": 13,
   "metadata": {},
   "outputs": [
    {
     "data": {
      "text/plain": [
       "[1, 2, 2, 3, 3, 3, 3, 3, 3, 4, 4, 4, 5, 5, 5, 6, 7, 7, 9, 31, 32, 43, 43, 88]"
      ]
     },
     "execution_count": 13,
     "metadata": {},
     "output_type": "execute_result"
    }
   ],
   "source": [
    "n = [1,2,31,2,3,4,43,32,4,5,5,43,3,3,3,3,3,4,5,6,7,7,88,9]\n",
    "sorted(n)"
   ]
  },
  {
   "cell_type": "code",
   "execution_count": 14,
   "metadata": {},
   "outputs": [
    {
     "data": {
      "text/plain": [
       "13.166666666666666"
      ]
     },
     "execution_count": 14,
     "metadata": {},
     "output_type": "execute_result"
    }
   ],
   "source": [
    "sum(n)/len(n)  # avarage value"
   ]
  },
  {
   "cell_type": "code",
   "execution_count": 15,
   "metadata": {},
   "outputs": [
    {
     "data": {
      "text/plain": [
       "88"
      ]
     },
     "execution_count": 15,
     "metadata": {},
     "output_type": "execute_result"
    }
   ],
   "source": [
    "max(n)"
   ]
  },
  {
   "cell_type": "code",
   "execution_count": 16,
   "metadata": {},
   "outputs": [
    {
     "data": {
      "text/plain": [
       "1"
      ]
     },
     "execution_count": 16,
     "metadata": {},
     "output_type": "execute_result"
    }
   ],
   "source": [
    "min(n)"
   ]
  },
  {
   "cell_type": "code",
   "execution_count": 17,
   "metadata": {},
   "outputs": [
    {
     "data": {
      "text/plain": [
       "24"
      ]
     },
     "execution_count": 17,
     "metadata": {},
     "output_type": "execute_result"
    }
   ],
   "source": [
    "len(n)"
   ]
  },
  {
   "cell_type": "code",
   "execution_count": 18,
   "metadata": {},
   "outputs": [
    {
     "data": {
      "text/plain": [
       "['a', 'b', 'c', 'd', 'e']"
      ]
     },
     "execution_count": 18,
     "metadata": {},
     "output_type": "execute_result"
    }
   ],
   "source": [
    "list('abcde')"
   ]
  },
  {
   "cell_type": "markdown",
   "metadata": {},
   "source": [
    "# methods of list\n",
    "- adding item in list       \n",
    "    append()\n",
    "    insert()\n",
    "    extend()\n",
    "- removing item in list      \n",
    "    pop()\n",
    "    remove()\n",
    "    clear()\n",
    "- utility function        \n",
    "    sort()\n",
    "    reverse()\n",
    "    index()\n",
    "    count()\n",
    "    copy()"
   ]
  },
  {
   "cell_type": "code",
   "execution_count": 19,
   "metadata": {},
   "outputs": [
    {
     "name": "stdout",
     "output_type": "stream",
     "text": [
      "['The Final Empire', 'The Wel of Ascension', 'The hero of ages', 'Steelheart', 'Legion', 'Firefight', 'Calamity', 'Way of the kings', 'Othbringer', 'The Rythm of war', 'Word of radiance']\n"
     ]
    }
   ],
   "source": [
    "books = ['The Final Empire',\n",
    "        'The Wel of Ascension',\n",
    "        'The hero of ages',\n",
    "        'Steelheart',\n",
    "        'Legion',\n",
    "        'Firefight',\n",
    "        'Calamity',\n",
    "        'Way of the kings',\n",
    "        'Othbringer',\n",
    "        'The Rythm of war',\n",
    "        'Word of radiance',\n",
    "        ]\n",
    "print(books)"
   ]
  },
  {
   "cell_type": "markdown",
   "metadata": {},
   "source": [
    "# Append"
   ]
  },
  {
   "cell_type": "code",
   "execution_count": 20,
   "metadata": {},
   "outputs": [
    {
     "data": {
      "text/plain": [
       "['The Final Empire',\n",
       " 'The Wel of Ascension',\n",
       " 'The hero of ages',\n",
       " 'Steelheart',\n",
       " 'Legion',\n",
       " 'Firefight',\n",
       " 'Calamity',\n",
       " 'Way of the kings',\n",
       " 'Othbringer',\n",
       " 'The Rythm of war',\n",
       " 'Word of radiance',\n",
       " 'The warrior',\n",
       " 'The Story',\n",
       " 'False',\n",
       " ['apple', 'banana', 'mango']]"
      ]
     },
     "execution_count": 20,
     "metadata": {},
     "output_type": "execute_result"
    }
   ],
   "source": [
    "books.append('The warrior') # append the books\n",
    "books.append('The Story')\n",
    "books.append('False')\n",
    "books.append(['apple','banana','mango'])\n",
    "books"
   ]
  },
  {
   "cell_type": "code",
   "execution_count": 21,
   "metadata": {},
   "outputs": [
    {
     "data": {
      "text/plain": [
       "15"
      ]
     },
     "execution_count": 21,
     "metadata": {},
     "output_type": "execute_result"
    }
   ],
   "source": [
    "len(books)"
   ]
  },
  {
   "cell_type": "code",
   "execution_count": 22,
   "metadata": {},
   "outputs": [
    {
     "data": {
      "text/plain": [
       "'apple'"
      ]
     },
     "execution_count": 22,
     "metadata": {},
     "output_type": "execute_result"
    }
   ],
   "source": [
    "books[-1][0]"
   ]
  },
  {
   "cell_type": "markdown",
   "metadata": {},
   "source": [
    "# Insert"
   ]
  },
  {
   "cell_type": "code",
   "execution_count": 23,
   "metadata": {},
   "outputs": [
    {
     "data": {
      "text/plain": [
       "['The Final Empire',\n",
       " 'The Wel of Ascension',\n",
       " 'The hero of ages',\n",
       " 'Steelheart',\n",
       " 'Legion',\n",
       " 'The Cat',\n",
       " 'Firefight',\n",
       " 'Calamity',\n",
       " 'Way of the kings',\n",
       " 'Othbringer',\n",
       " 'The Rythm of war',\n",
       " 'Word of radiance',\n",
       " 'The warrior',\n",
       " 'The Story',\n",
       " 'False',\n",
       " ['apple', 'banana', 'mango']]"
      ]
     },
     "execution_count": 23,
     "metadata": {},
     "output_type": "execute_result"
    }
   ],
   "source": [
    "books.insert(5,'The Cat')\n",
    "books"
   ]
  },
  {
   "cell_type": "code",
   "execution_count": 24,
   "metadata": {},
   "outputs": [
    {
     "name": "stdout",
     "output_type": "stream",
     "text": [
      "['The Final Empire', 'The Wel of Ascension', 'The hero of ages', 'Steelheart', 'Legion', 'The Cat', 'Firefight', 'Calamity', 'Way of the kings', 'Othbringer', 'The Rythm of war', 'The Alloy of Law', 'Word of radiance', 'The warrior', 'The Story', 'False', ['apple', 'banana', 'mango']]\n"
     ]
    }
   ],
   "source": [
    "books.insert(-5, 'The Alloy of Law')\n",
    "print(books)"
   ]
  },
  {
   "cell_type": "markdown",
   "metadata": {},
   "source": [
    "# Extends"
   ]
  },
  {
   "cell_type": "code",
   "execution_count": 25,
   "metadata": {},
   "outputs": [],
   "source": [
    "# We can add multi item or list in existing list\n",
    "books_1 = ['Two state','The White Tiger','The Twilight saga']  \n",
    "\n",
    "books.extend(books_1)"
   ]
  },
  {
   "cell_type": "code",
   "execution_count": 26,
   "metadata": {},
   "outputs": [
    {
     "name": "stdout",
     "output_type": "stream",
     "text": [
      "['The Final Empire', 'The Wel of Ascension', 'The hero of ages', 'Steelheart', 'Legion', 'The Cat', 'Firefight', 'Calamity', 'Way of the kings', 'Othbringer', 'The Rythm of war', 'The Alloy of Law', 'Word of radiance', 'The warrior', 'The Story', 'False', ['apple', 'banana', 'mango'], 'Two state', 'The White Tiger', 'The Twilight saga', 1, 2, 3, 4]\n"
     ]
    }
   ],
   "source": [
    "books.extend([1,2,3,4])\n",
    "print(books)"
   ]
  },
  {
   "cell_type": "code",
   "execution_count": 27,
   "metadata": {},
   "outputs": [
    {
     "data": {
      "text/plain": [
       "24"
      ]
     },
     "execution_count": 27,
     "metadata": {},
     "output_type": "execute_result"
    }
   ],
   "source": [
    "len(books)"
   ]
  },
  {
   "cell_type": "markdown",
   "metadata": {},
   "source": [
    "# Removing the item\n",
    "\n",
    "# remove"
   ]
  },
  {
   "cell_type": "code",
   "execution_count": 28,
   "metadata": {},
   "outputs": [],
   "source": [
    "books.remove('The White Tiger')"
   ]
  },
  {
   "cell_type": "code",
   "execution_count": 29,
   "metadata": {},
   "outputs": [
    {
     "name": "stdout",
     "output_type": "stream",
     "text": [
      "The books is removed from book list\n"
     ]
    }
   ],
   "source": [
    "remove_book = 'The Final Empire'\n",
    "if remove_book in books:\n",
    "    books.remove(remove_book)\n",
    "    print('The books is removed from book list')\n",
    "else:\n",
    "    print(f'{remove_book} is not available in books')"
   ]
  },
  {
   "cell_type": "code",
   "execution_count": 30,
   "metadata": {},
   "outputs": [
    {
     "data": {
      "text/plain": [
       "['The Wel of Ascension',\n",
       " 'The hero of ages',\n",
       " 'Steelheart',\n",
       " 'Legion',\n",
       " 'The Cat',\n",
       " 'Firefight',\n",
       " 'Calamity',\n",
       " 'Way of the kings',\n",
       " 'Othbringer',\n",
       " 'The Rythm of war',\n",
       " 'The Alloy of Law',\n",
       " 'Word of radiance',\n",
       " 'The warrior',\n",
       " 'The Story',\n",
       " 'False',\n",
       " ['apple', 'banana', 'mango'],\n",
       " 'Two state',\n",
       " 'The Twilight saga',\n",
       " 1,\n",
       " 2,\n",
       " 3,\n",
       " 4]"
      ]
     },
     "execution_count": 30,
     "metadata": {},
     "output_type": "execute_result"
    }
   ],
   "source": [
    "books"
   ]
  },
  {
   "cell_type": "markdown",
   "metadata": {},
   "source": [
    "# pop()"
   ]
  },
  {
   "cell_type": "code",
   "execution_count": 31,
   "metadata": {},
   "outputs": [
    {
     "data": {
      "text/plain": [
       "2"
      ]
     },
     "execution_count": 31,
     "metadata": {},
     "output_type": "execute_result"
    }
   ],
   "source": [
    "books.pop(-3)"
   ]
  },
  {
   "cell_type": "code",
   "execution_count": 32,
   "metadata": {},
   "outputs": [
    {
     "data": {
      "text/plain": [
       "4"
      ]
     },
     "execution_count": 32,
     "metadata": {},
     "output_type": "execute_result"
    }
   ],
   "source": [
    "books.pop()"
   ]
  },
  {
   "cell_type": "markdown",
   "metadata": {},
   "source": [
    "# clear()"
   ]
  },
  {
   "cell_type": "code",
   "execution_count": 33,
   "metadata": {},
   "outputs": [],
   "source": [
    "books.clear() # its clear all item from list"
   ]
  },
  {
   "cell_type": "markdown",
   "metadata": {},
   "source": [
    "# Utility Function\n",
    "# sort()"
   ]
  },
  {
   "cell_type": "code",
   "execution_count": 35,
   "metadata": {},
   "outputs": [],
   "source": [
    "y = [1,2,32,3,2,23,22,2,2,3,4,5,6,765,5,55,6,54,4,43]"
   ]
  },
  {
   "cell_type": "code",
   "execution_count": 36,
   "metadata": {},
   "outputs": [
    {
     "data": {
      "text/plain": [
       "[1, 2, 2, 2, 2, 3, 3, 4, 4, 5, 5, 6, 6, 22, 23, 32, 43, 54, 55, 765]"
      ]
     },
     "execution_count": 36,
     "metadata": {},
     "output_type": "execute_result"
    }
   ],
   "source": [
    "sorted(y) # its sort but not update the list"
   ]
  },
  {
   "cell_type": "code",
   "execution_count": 39,
   "metadata": {},
   "outputs": [
    {
     "name": "stdout",
     "output_type": "stream",
     "text": [
      "[1, 2, 2, 2, 2, 3, 3, 4, 4, 5, 5, 6, 6, 22, 23, 32, 43, 54, 55, 765]\n"
     ]
    }
   ],
   "source": [
    "y.sort() # its sort and also update the list\n",
    "print(y)"
   ]
  },
  {
   "cell_type": "code",
   "execution_count": 41,
   "metadata": {},
   "outputs": [],
   "source": [
    "name = ['amit','raj','sumit','rahul']"
   ]
  },
  {
   "cell_type": "code",
   "execution_count": 42,
   "metadata": {},
   "outputs": [
    {
     "name": "stdout",
     "output_type": "stream",
     "text": [
      "['amit', 'rahul', 'raj', 'sumit']\n"
     ]
    }
   ],
   "source": [
    "name.sort()\n",
    "print(name)"
   ]
  },
  {
   "cell_type": "markdown",
   "metadata": {},
   "source": [
    "# reverse()"
   ]
  },
  {
   "cell_type": "code",
   "execution_count": 44,
   "metadata": {},
   "outputs": [
    {
     "name": "stdout",
     "output_type": "stream",
     "text": [
      "['sumit', 'raj', 'rahul', 'amit']\n"
     ]
    }
   ],
   "source": [
    "name.sort(reverse=True)  # we can reverse the list\n",
    "print(name)"
   ]
  },
  {
   "cell_type": "markdown",
   "metadata": {},
   "source": [
    "# count()"
   ]
  },
  {
   "cell_type": "code",
   "execution_count": 46,
   "metadata": {},
   "outputs": [
    {
     "data": {
      "text/plain": [
       "4"
      ]
     },
     "execution_count": 46,
     "metadata": {},
     "output_type": "execute_result"
    }
   ],
   "source": [
    "x = [9,8,7,6,5,4,4,6,6,5,6,7]\n",
    "x.count(6)"
   ]
  },
  {
   "cell_type": "markdown",
   "metadata": {},
   "source": [
    "# index()"
   ]
  },
  {
   "cell_type": "code",
   "execution_count": 47,
   "metadata": {},
   "outputs": [
    {
     "data": {
      "text/plain": [
       "1"
      ]
     },
     "execution_count": 47,
     "metadata": {},
     "output_type": "execute_result"
    }
   ],
   "source": [
    "x = [9,8,7,6,5,4,4,6,6,5,6,7] # via this function we can find the index position\n",
    "x.index(8)"
   ]
  },
  {
   "cell_type": "code",
   "execution_count": 55,
   "metadata": {},
   "outputs": [
    {
     "name": "stdout",
     "output_type": "stream",
     "text": [
      "16\n"
     ]
    }
   ],
   "source": [
    "x = [9,8,7,6,5,4,4,6,6,5,6,7,100,23,1223,121,222]   # this is the right method for search in list ***\n",
    "if 222 in x:\n",
    "    print(x.index(222))"
   ]
  },
  {
   "cell_type": "markdown",
   "metadata": {},
   "source": [
    "# copy()"
   ]
  },
  {
   "cell_type": "code",
   "execution_count": 62,
   "metadata": {},
   "outputs": [],
   "source": [
    "x = [9,8,7,6,5,4,4,6,6,5,6,7,100,23,1223,121,222]\n",
    "y = x # its assign the all value to y but its not get copy\n",
    "\n",
    "x.append(1)\n",
    "z = x.copy()\n",
    "z.append(33)"
   ]
  },
  {
   "cell_type": "code",
   "execution_count": 63,
   "metadata": {},
   "outputs": [
    {
     "name": "stdout",
     "output_type": "stream",
     "text": [
      "[9, 8, 7, 6, 5, 4, 4, 6, 6, 5, 6, 7, 100, 23, 1223, 121, 222, 1]\n",
      "[9, 8, 7, 6, 5, 4, 4, 6, 6, 5, 6, 7, 100, 23, 1223, 121, 222, 1]\n",
      "[9, 8, 7, 6, 5, 4, 4, 6, 6, 5, 6, 7, 100, 23, 1223, 121, 222, 1, 33]\n"
     ]
    }
   ],
   "source": [
    "print(x)\n",
    "print(y)\n",
    "print(z)"
   ]
  },
  {
   "cell_type": "code",
   "execution_count": null,
   "metadata": {},
   "outputs": [],
   "source": []
  }
 ],
 "metadata": {
  "kernelspec": {
   "display_name": "Python 3.9.12 ('base')",
   "language": "python",
   "name": "python3"
  },
  "language_info": {
   "codemirror_mode": {
    "name": "ipython",
    "version": 3
   },
   "file_extension": ".py",
   "mimetype": "text/x-python",
   "name": "python",
   "nbconvert_exporter": "python",
   "pygments_lexer": "ipython3",
   "version": "3.9.12"
  },
  "orig_nbformat": 4,
  "vscode": {
   "interpreter": {
    "hash": "19d1d53a962d236aa061289c2ac16dc8e6d9648c89fe79f459ae9a3493bc67b4"
   }
  }
 },
 "nbformat": 4,
 "nbformat_minor": 2
}
