{
 "cells": [
  {
   "cell_type": "markdown",
   "metadata": {},
   "source": [
    "# Input Output in Python\n",
    "\n",
    "The input function take a single optional orgument called prompt\n",
    "\n",
    "* The input() method reads a line from the input {usually from the user}, convert the line into string and return it\n",
    "* The value returned from input function is always string data type"
   ]
  },
  {
   "cell_type": "code",
   "execution_count": 4,
   "metadata": {},
   "outputs": [],
   "source": [
    "first_name = input(\"What is your first name : \")\n",
    "last_name = input(\"What is your last name : \")\n",
    "age = int(input(\"What is your age : \"))\n",
    "institute = input(\"What is your institute name: \")"
   ]
  },
  {
   "cell_type": "markdown",
   "metadata": {},
   "source": [
    "# Casting in Python\n",
    "When you convert the valriable value from one type to another type is called casting."
   ]
  },
  {
   "cell_type": "code",
   "execution_count": 16,
   "metadata": {},
   "outputs": [
    {
     "data": {
      "text/plain": [
       "190"
      ]
     },
     "execution_count": 16,
     "metadata": {},
     "output_type": "execute_result"
    }
   ],
   "source": [
    "x = '100'\n",
    "y = '90'\n",
    "\n",
    "x + y\n",
    "\n",
    "x = int(x)\n",
    "y = int(y)\n",
    "x + y"
   ]
  },
  {
   "cell_type": "code",
   "execution_count": 17,
   "metadata": {},
   "outputs": [],
   "source": [
    "# Float to integer\n",
    "x = 10.20202\n",
    "z1 = int(x)"
   ]
  },
  {
   "cell_type": "markdown",
   "metadata": {},
   "source": [
    "# Write down the datatype given in code below?"
   ]
  },
  {
   "cell_type": "code",
   "execution_count": null,
   "metadata": {},
   "outputs": [],
   "source": [
    "name = input(\"Enter your name : \")\n",
    "type(name)"
   ]
  },
  {
   "cell_type": "code",
   "execution_count": 23,
   "metadata": {},
   "outputs": [
    {
     "data": {
      "text/plain": [
       "int"
      ]
     },
     "execution_count": 23,
     "metadata": {},
     "output_type": "execute_result"
    }
   ],
   "source": [
    "age = input(\"Enter your age : \")\n",
    "age = int(age)\n",
    "type(age)"
   ]
  },
  {
   "cell_type": "code",
   "execution_count": 18,
   "metadata": {},
   "outputs": [
    {
     "data": {
      "text/plain": [
       "str"
      ]
     },
     "execution_count": 18,
     "metadata": {},
     "output_type": "execute_result"
    }
   ],
   "source": [
    "x = 5\n",
    "x = str(x)\n",
    "type(x)"
   ]
  },
  {
   "cell_type": "code",
   "execution_count": 19,
   "metadata": {},
   "outputs": [
    {
     "data": {
      "text/plain": [
       "int"
      ]
     },
     "execution_count": 19,
     "metadata": {},
     "output_type": "execute_result"
    }
   ],
   "source": [
    "pi = 3.145\n",
    "p = int(pi)\n",
    "type(p)"
   ]
  },
  {
   "cell_type": "code",
   "execution_count": 20,
   "metadata": {},
   "outputs": [
    {
     "data": {
      "text/plain": [
       "bool"
      ]
     },
     "execution_count": 20,
     "metadata": {},
     "output_type": "execute_result"
    }
   ],
   "source": [
    "num = 0\n",
    "val = bool(num)\n",
    "type(val)"
   ]
  },
  {
   "cell_type": "code",
   "execution_count": 21,
   "metadata": {},
   "outputs": [
    {
     "data": {
      "text/plain": [
       "bool"
      ]
     },
     "execution_count": 21,
     "metadata": {},
     "output_type": "execute_result"
    }
   ],
   "source": [
    "married = 'yes'\n",
    "m = bool(married)\n",
    "type(m)"
   ]
  },
  {
   "cell_type": "markdown",
   "metadata": {},
   "source": [
    "# Formatting\n",
    "Attractively designing your string using formatting techniques provide by the particular programming language."
   ]
  },
  {
   "cell_type": "code",
   "execution_count": 3,
   "metadata": {},
   "outputs": [
    {
     "name": "stdout",
     "output_type": "stream",
     "text": [
      "Hello Mr. Amit your age is 23\n"
     ]
    }
   ],
   "source": [
    "name = input(\"Please enter your name : \")\n",
    "age = input(\"Please enter your age : \")\n",
    "print(f\"Hello Mr. {name} your age is {age}\")"
   ]
  },
  {
   "cell_type": "markdown",
   "metadata": {},
   "source": [
    "# ***Input Output Assignment small programm"
   ]
  },
  {
   "cell_type": "code",
   "execution_count": 5,
   "metadata": {},
   "outputs": [
    {
     "name": "stdout",
     "output_type": "stream",
     "text": [
      "Hello your name is Amit\n",
      "Your age is 23\n",
      "Your Company name is TCS\n",
      "Your designation is Python Developer\n"
     ]
    }
   ],
   "source": [
    "name = input(\"Please enter your name : \")\n",
    "age = input(\"Please enter your age : \")\n",
    "company = input(\"Please enter your company name : \")\n",
    "designation = input(\"Please enter your designation : \")\n",
    "print(f\"Hello your name is {name}\\nYour age is {age}\\nYour Company name is {company}\\nYour designation is {designation}\")"
   ]
  },
  {
   "cell_type": "markdown",
   "metadata": {},
   "source": [
    "# Task:\n",
    "Take details of student and display his grade"
   ]
  },
  {
   "cell_type": "code",
   "execution_count": 5,
   "metadata": {},
   "outputs": [
    {
     "name": "stdout",
     "output_type": "stream",
     "text": [
      "B Grade\n"
     ]
    }
   ],
   "source": [
    "student_id = input(\"Please enter student ID here: \")\n",
    "student_name = input(\"Please enter studnet name here: \")\n",
    "percentage = int(input(\"Please enter percentage of marks here: \"))\n",
    "\n",
    "if percentage>= 80:\n",
    "    print(\"A Grade\")\n",
    "elif percentage >=60:\n",
    "    print(\"B Grade\")\n",
    "elif percentage >=45:\n",
    "    print(\"C Grade\")\n",
    "else:\n",
    "    print(\"FAIL\")\n",
    "    "
   ]
  },
  {
   "cell_type": "markdown",
   "metadata": {},
   "source": [
    "# Task:\n",
    "Take details of Employee, if he is a manager and he had above 5 year experience give 15% bonus, otherwise 10% if he is not a manager, and give 5% bonus to junior"
   ]
  },
  {
   "cell_type": "code",
   "execution_count": 4,
   "metadata": {},
   "outputs": [
    {
     "name": "stdout",
     "output_type": "stream",
     "text": [
      "Hi Mr.amit your total earning is 60500.0\n"
     ]
    }
   ],
   "source": [
    "# Nested if\n",
    "Emp_id = input(\"Please enter your emp id here: \")\n",
    "Name = input(\"Please enter your name here: \")\n",
    "Salary = int(input(\"Please enter your salary here: \"))\n",
    "Designation = input(\"Please enter your designation here: \")\n",
    "Experience = int(input (\"Please enter your total experience: \"))\n",
    "\n",
    "b = 0\n",
    "if Designation == 'manager':\n",
    "    if Experience > 5:\n",
    "        b = Salary * 0.15\n",
    "    else:\n",
    "        b = Salary * 0.10\n",
    "else:\n",
    "    b = Salary * 0.05\n",
    "\n",
    "Total = Salary + b\n",
    "print(f\"Hi Mr.{Name} your total earning is {Total}\")    \n"
   ]
  },
  {
   "cell_type": "markdown",
   "metadata": {},
   "source": [
    "# Task:\n",
    "Given an Integer,\n",
    "* If n is odd, print Weird\n",
    "* If n is even and in the enclusive range of 2 to 5, print Not Weird\n",
    "* If n is even and in the inclusive range of 6 to 20, print Weird\n",
    "* If n is even greater than 20, print Not Weird"
   ]
  },
  {
   "cell_type": "code",
   "execution_count": 14,
   "metadata": {},
   "outputs": [
    {
     "name": "stdout",
     "output_type": "stream",
     "text": [
      "Weird\n"
     ]
    }
   ],
   "source": [
    "n = int(input(\"Please enter the number:  \"))\n",
    "\n",
    "if n%1 == 1:\n",
    "    print(\"Weird\")\n",
    "elif n >=2 and n <= 5:\n",
    "    print(\"Not Weird\")\n",
    "elif n >= 5 and n <= 20:\n",
    "    print(\"Weird\")\n",
    "elif n >= 20:\n",
    "    print(\"Not Weird\")\n",
    "\n"
   ]
  },
  {
   "cell_type": "markdown",
   "metadata": {},
   "source": [
    "# Simple Calculator"
   ]
  },
  {
   "cell_type": "code",
   "execution_count": 21,
   "metadata": {},
   "outputs": [
    {
     "name": "stdout",
     "output_type": "stream",
     "text": [
      "A. Addition\n",
      "B. Substraction\n",
      "C. Multiplication\n",
      "D. Division\n",
      "100 - 21 total is 79\n"
     ]
    }
   ],
   "source": [
    "print(\"A. Addition\\nB. Substraction\\nC. Multiplication\\nD. Division\")\n",
    "choice=input(\"Please choose your choice\")\n",
    "\n",
    "if choice == 'A':\n",
    "    num1 = int(input(\"Enter 1st number: \"))\n",
    "    num2 = int(input(\"Enter 2nd number: \"))\n",
    "    print(f\"{num1} + {num2} total is {num1+num2}\")\n",
    "\n",
    "elif choice == 'B':\n",
    "    num3 = int(input(\"Enter 1st number: \"))\n",
    "    num4 = int(input(\"Enter 2nd number: \"))\n",
    "    print(f\"{num3} - {num4} total is {num3-num4}\")\n",
    "\n",
    "elif choice == 'C':\n",
    "    num5 = int(input(\"Enter 1st number: \"))\n",
    "    num6 = int(input(\"Enter 2nd number: \"))\n",
    "    print(f\"{num5} * {num6} total is {num5*num6}\")\n",
    "\n",
    "elif choice == 'D':\n",
    "    num7 = int(input(\"Enter 1st number: \"))\n",
    "    num8 = int(input(\"Enter 2nd number: \"))\n",
    "    print(f\"{num7} / {num8} total is {num7/num8}\")\n",
    "\n",
    "else:\n",
    "    print(\"Thank you\")"
   ]
  },
  {
   "cell_type": "code",
   "execution_count": null,
   "metadata": {},
   "outputs": [],
   "source": []
  }
 ],
 "metadata": {
  "interpreter": {
   "hash": "19d1d53a962d236aa061289c2ac16dc8e6d9648c89fe79f459ae9a3493bc67b4"
  },
  "kernelspec": {
   "display_name": "Python 3.9.12 ('base')",
   "language": "python",
   "name": "python3"
  },
  "language_info": {
   "codemirror_mode": {
    "name": "ipython",
    "version": 3
   },
   "file_extension": ".py",
   "mimetype": "text/x-python",
   "name": "python",
   "nbconvert_exporter": "python",
   "pygments_lexer": "ipython3",
   "version": "3.9.12"
  },
  "orig_nbformat": 4
 },
 "nbformat": 4,
 "nbformat_minor": 2
}
