{
 "cells": [
  {
   "cell_type": "markdown",
   "metadata": {},
   "source": [
    "# Variable and Data Types\n",
    "Variable - A storage location for data in a computer programs is called variable.\n",
    "* The storage location can be used to store a value and retrieve the value\n",
    "* Value in a variable can be changed anytime by coder or during execution of program\n",
    "* The value of variable will determine the datatypes of the variable\n",
    "* variables are written in small letters in python\n",
    "\n"
   ]
  },
  {
   "cell_type": "code",
   "execution_count": 4,
   "metadata": {},
   "outputs": [],
   "source": [
    "# Variable\n",
    "name = 'Amit'\n",
    "age = 23\n",
    "course = 'Python Data Science'\n",
    "Institue = 'Digipodium Lucknow'\n",
    "\n"
   ]
  },
  {
   "cell_type": "markdown",
   "metadata": {},
   "source": [
    "# DATA TYPE IN PYTHON\n",
    "Python contain multiple types of data\n",
    "\n",
    "1 INTEGER TYPE - Integer in python, means any numerical values (positive or negative) \n",
    "* We can use the type() function to know which class a variable or a value belongs to.\n",
    "\n"
   ]
  },
  {
   "cell_type": "code",
   "execution_count": 2,
   "metadata": {},
   "outputs": [],
   "source": [
    "# Integer type data\n",
    "x = 10\n",
    "y = 1007647468338\n",
    "z = -57367324"
   ]
  },
  {
   "cell_type": "markdown",
   "metadata": {},
   "source": [
    "2 FLOAT TYPE - Float, or \"floating point number\" is a number, positive or negative, containing one or\tmore decimals.\n",
    "* Float can also be scientific numbers with an \"e\" to indicate the power of 10"
   ]
  },
  {
   "cell_type": "code",
   "execution_count": 6,
   "metadata": {},
   "outputs": [],
   "source": [
    "# Float Type\n",
    "a = 10.1\n",
    "b = 2.5\n",
    "c = -33.400\n",
    "d = 87.7e100"
   ]
  },
  {
   "cell_type": "markdown",
   "metadata": {},
   "source": [
    "STRING - String literals in python are surrounded by either single quotation marks, or double \tquotation marks.\n",
    "* Multiline Strings :\n",
    "You can assign a multiline string to a variable by using three quotes  ‘’’ Hey yo ‘’’\n"
   ]
  },
  {
   "cell_type": "code",
   "execution_count": 8,
   "metadata": {},
   "outputs": [],
   "source": [
    "# String\n",
    "first_name = \"Amit\"\n",
    "last_name = \"Kumar\"\n",
    "course = 'Python Data Science'\n",
    "institute = \"Digipodium\""
   ]
  },
  {
   "cell_type": "markdown",
   "metadata": {},
   "source": [
    "BOOLEAN - Booleans represent one of two values: True or False. \n",
    "* 'hello' is the same as \"hello\".\n"
   ]
  },
  {
   "cell_type": "code",
   "execution_count": 9,
   "metadata": {},
   "outputs": [],
   "source": [
    "# Boolean\n",
    "is_coding = True\n",
    "is_python_language = True\n",
    "is_difficult = False"
   ]
  },
  {
   "cell_type": "markdown",
   "metadata": {},
   "source": [
    "None Datatype - when you don’t want to store something but want to create an empty variable\n",
    "* The None keyword is used to define a null value, or no value at all\n"
   ]
  },
  {
   "cell_type": "code",
   "execution_count": 10,
   "metadata": {},
   "outputs": [],
   "source": [
    "x = None"
   ]
  },
  {
   "cell_type": "markdown",
   "metadata": {},
   "source": [
    "# The Special Data Types\n",
    "List, Tuple, Set, Dictionary ( Data Structure )\n",
    "\n",
    "LIST - List is an ordered sequence of items in Python and its mutable type data\n"
   ]
  },
  {
   "cell_type": "code",
   "execution_count": 5,
   "metadata": {},
   "outputs": [],
   "source": [
    "# LIST\n",
    "name = ['Amit', 'Sumit', 'Bhavik']\n",
    "fruits = ['Apple','orange', 'cherry']\n",
    "mix = [10,21,23,'A','B','C','d',10.4,True]"
   ]
  },
  {
   "cell_type": "markdown",
   "metadata": {},
   "source": [
    "TUPLES - Tuple is also ordered sequence of items in python but it's immutable mean its not be changeable after assign value"
   ]
  },
  {
   "cell_type": "code",
   "execution_count": 7,
   "metadata": {},
   "outputs": [],
   "source": [
    "# Tuples\n",
    "fixed_data = (10,10.2,'hello')\n",
    "data = (10,12,11,8.3,'lucknow')"
   ]
  },
  {
   "cell_type": "markdown",
   "metadata": {},
   "source": [
    "SET DATA TYPE -  \n",
    "Set is an unordered collection of unique items and  items in a set are not ordered, Sets have unique values. They eliminate duplicates.\n",
    "\n",
    "\n"
   ]
  },
  {
   "cell_type": "code",
   "execution_count": 8,
   "metadata": {},
   "outputs": [],
   "source": [
    "# SET\n",
    "a = {10,32,33,42,56,757}\n",
    "b = {10,1.2,'python'}\n",
    "colour = {'red','yellow','blue'}"
   ]
  },
  {
   "cell_type": "markdown",
   "metadata": {},
   "source": [
    "DICTIONARY - Dictionary is an ordered collection of key-value pairs (3.7), Generally used when we have a huge amount of data\n",
    "\n"
   ]
  },
  {
   "cell_type": "code",
   "execution_count": 27,
   "metadata": {},
   "outputs": [
    {
     "name": "stdout",
     "output_type": "stream",
     "text": [
      "dict_keys(['first_name', 'last_name', 'designation', 'dob'])\n",
      "dict_values(['amit', 'kumar', 'engineer', 0.0050025012506253125])\n",
      "amit\n",
      "dict_items([('first_name', 'amit'), ('last_name', 'kumar'), ('designation', 'engineer'), ('dob', 0.0050025012506253125)])\n",
      "[{'brand': 'tvs', 'model': 'RTR160', 'year': 2016}, {'brand': 'honda', 'model': 'cb150r', 'year': 2022}, {'brand': 'yamaha', 'model': 'R15', 'year': 2016}]\n"
     ]
    }
   ],
   "source": [
    "# DICTIONARY\n",
    "from datetime import date\n",
    "car_info ={\n",
    "    'brand': 'ford',\n",
    "    'model': 'mustange',\n",
    "    'year' : 1964\n",
    "}\n",
    "\n",
    "bike_info = [\n",
    "{\n",
    "    'brand': 'tvs',\n",
    "    'model': 'RTR160',\n",
    "    'year' : 2016,\n",
    "},\n",
    "\n",
    "{\n",
    "    'brand': 'honda',\n",
    "    'model' : 'cb150r',\n",
    "    'year': 2022,\n",
    "},\n",
    "\n",
    "{\n",
    "    'brand': 'yamaha',\n",
    "    'model' : 'R15',\n",
    "    'year' : 2016,\n",
    "},\n",
    "    ]\n",
    "\n",
    "vehicle_list = bike_info\n",
    "\n",
    "employee_details = {\n",
    "    'first_name': 'amit',\n",
    "    'last_name' : 'kumar',\n",
    "    'designation' : 'engineer',\n",
    "    'dob' : 30/3/1999,\n",
    "}\n",
    "\n",
    "print(employee_details.keys())\n",
    "print(employee_details.values())\n",
    "print(employee_details.get('first_name'))\n",
    "print(employee_details.items())\n",
    "print(vehicle_list)\n"
   ]
  },
  {
   "cell_type": "code",
   "execution_count": null,
   "metadata": {},
   "outputs": [],
   "source": []
  }
 ],
 "metadata": {
  "interpreter": {
   "hash": "19d1d53a962d236aa061289c2ac16dc8e6d9648c89fe79f459ae9a3493bc67b4"
  },
  "kernelspec": {
   "display_name": "Python 3.9.12 64-bit ('base': conda)",
   "language": "python",
   "name": "python3"
  },
  "language_info": {
   "codemirror_mode": {
    "name": "ipython",
    "version": 3
   },
   "file_extension": ".py",
   "mimetype": "text/x-python",
   "name": "python",
   "nbconvert_exporter": "python",
   "pygments_lexer": "ipython3",
   "version": "3.9.12"
  },
  "orig_nbformat": 4
 },
 "nbformat": 4,
 "nbformat_minor": 2
}
