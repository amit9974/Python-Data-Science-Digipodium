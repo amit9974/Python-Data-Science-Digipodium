{
 "cells": [
  {
   "cell_type": "markdown",
   "metadata": {},
   "source": [
    "# Questions\n",
    "- Remove the vowels from a string that is provided by the user.\n",
    "- Count all the vowels in a string that is provided by the user.\n",
    "- Count all the word occurence in a string the is provided by user.\n",
    "- Find all the indexes of a word in a string provided by user."
   ]
  },
  {
   "cell_type": "code",
   "execution_count": 1,
   "metadata": {},
   "outputs": [
    {
     "name": "stdout",
     "output_type": "stream",
     "text": [
      "Hll Hw r y\n"
     ]
    }
   ],
   "source": [
    "#1 Remove the vowels from a string that is provided by the user.\n",
    "msg = input(\"enter something: \")\n",
    "for v in 'aieouAIEOU':\n",
    "    msg = msg.replace(v, '')\n",
    "print(msg)"
   ]
  },
  {
   "cell_type": "code",
   "execution_count": 38,
   "metadata": {},
   "outputs": [
    {
     "data": {
      "text/plain": [
       "'This is python programing'"
      ]
     },
     "execution_count": 38,
     "metadata": {},
     "output_type": "execute_result"
    }
   ],
   "source": [
    "# 6 Remove all spaces from string\n",
    "a = '    This is python programing     '\n",
    "a.strip()"
   ]
  },
  {
   "cell_type": "code",
   "execution_count": 42,
   "metadata": {},
   "outputs": [
    {
     "name": "stdout",
     "output_type": "stream",
     "text": [
      "world => 2\n",
      "hllo => 3\n",
      "wold => 1\n"
     ]
    }
   ],
   "source": [
    "#2 - Count all the word occurence in a string the is provided by user.\n",
    "msg = input(' Enter msg: ')\n",
    "words = set(msg.split())\n",
    "for w in words:\n",
    "    c = msg.count(w)\n",
    "    print(w, '=>' ,c)"
   ]
  },
  {
   "cell_type": "code",
   "execution_count": 33,
   "metadata": {},
   "outputs": [
    {
     "name": "stdout",
     "output_type": "stream",
     "text": [
      "story found at position 22 \n",
      "story found at position 45 \n",
      "story found at position 65 \n"
     ]
    }
   ],
   "source": [
    "#   Find all the indexes of a word in a string provided by user.\n",
    "story = '''This is an example of story, \n",
    "this is second story, this is nice story'''\n",
    "\n",
    "q = input(\"Search word: \")\n",
    "start = 0\n",
    "while True:\n",
    "    idx = story.find(q, start)\n",
    "    if idx == -1:\n",
    "        break\n",
    "    print(f\"{q} found at position {idx} \")\n",
    "    start= idx +1"
   ]
  },
  {
   "cell_type": "code",
   "execution_count": 34,
   "metadata": {},
   "outputs": [
    {
     "name": "stdout",
     "output_type": "stream",
     "text": [
      "world at position 6\n"
     ]
    }
   ],
   "source": [
    "story1= '''Hello world how are you'''\n",
    "msg = input('Msg')\n",
    "start = 0\n",
    "while True:\n",
    "    id = story1.find(msg, start)\n",
    "    if id == -1:\n",
    "        break\n",
    "    print(f'{msg} at position {id}')\n",
    "    start = id + 1"
   ]
  },
  {
   "cell_type": "code",
   "execution_count": 37,
   "metadata": {},
   "outputs": [
    {
     "name": "stdout",
     "output_type": "stream",
     "text": [
      "Th3s 3s 1n 2x1mpl2 4f st4ry, \n",
      "th3s 3s s2c4nd st4ry, th3s 3s n3c2 st4ry\n"
     ]
    }
   ],
   "source": [
    "# replace vowels\n",
    "story = '''This is an example of story, \n",
    "this is second story, this is nice story'''\n",
    "\n",
    "for v in 'aeiouAEIOU':\n",
    "    if v == 'a' or v == 'A':\n",
    "        story = story.replace(v, '1')\n",
    "    if v == 'e' or v == 'E':\n",
    "        story = story.replace(v, '2')\n",
    "    if v == 'i' or v == 'I':\n",
    "        story = story.replace(v, '3')\n",
    "    if v == 'o' or v == 'O':\n",
    "        story = story.replace(v, '4')\n",
    "    if v == 'u' or v == 'U':\n",
    "        story = story.replace(v, '5')\n",
    "print(story)\n"
   ]
  }
 ],
 "metadata": {
  "kernelspec": {
   "display_name": "Python 3.9.12 ('base')",
   "language": "python",
   "name": "python3"
  },
  "language_info": {
   "codemirror_mode": {
    "name": "ipython",
    "version": 3
   },
   "file_extension": ".py",
   "mimetype": "text/x-python",
   "name": "python",
   "nbconvert_exporter": "python",
   "pygments_lexer": "ipython3",
   "version": "3.9.12"
  },
  "orig_nbformat": 4,
  "vscode": {
   "interpreter": {
    "hash": "19d1d53a962d236aa061289c2ac16dc8e6d9648c89fe79f459ae9a3493bc67b4"
   }
  }
 },
 "nbformat": 4,
 "nbformat_minor": 2
}
